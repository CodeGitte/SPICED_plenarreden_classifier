{
 "cells": [
  {
   "cell_type": "code",
   "execution_count": 4,
   "id": "2ffd00c0",
   "metadata": {},
   "outputs": [
    {
     "name": "stdout",
     "output_type": "stream",
     "text": [
      "             id  session  electoralTerm firstName    lastName  politicianId  \\\n",
      "0             0        2              1       NaN      Köhler      11001150   \n",
      "1             1        2              1       NaN      Arnold            -1   \n",
      "2             2        2              1       NaN      Köhler      11001150   \n",
      "3             3        2              1       NaN       Heuss            -1   \n",
      "4             4        2              1       NaN      Köhler      11001150   \n",
      "...         ...      ...            ...       ...         ...           ...   \n",
      "907639  1060953      228             19     Helge       Lindh      11004802   \n",
      "907640  1060954      228             19     Petra         Pau      11003206   \n",
      "907641  1060955      228             19     Helge       Lindh      11004802   \n",
      "907642  1060956      228             19     Petra         Pau      11003206   \n",
      "907643  1060957      228             19   Tankred  Schipanski      11004143   \n",
      "\n",
      "                                            speechContent  factionId  \\\n",
      "0       Meine Damen und Herren! Ich eröffne die 2. Sit...         -1   \n",
      "1         Der Bundesrat ist versammelt, Herr Präsident.\\n         -1   \n",
      "2       Ich danke für diese Erklärung. Ich stelle dami...         -1   \n",
      "3                              Ja, ich habe den Wunsch.\\n         -1   \n",
      "4       Ich erteile dem Herrn Bundespräsidenten das Wo...         -1   \n",
      "...                                                   ...        ...   \n",
      "907639                                     \\n\\nWie bitte?         23   \n",
      "907640  \\n\\nSie müssen das jetzt verkürzen und zum Pun...         -1   \n",
      "907641  \\n\\nGut, ich beschränke mich auf einen Satz:\\n...         23   \n",
      "907642  \\n\\nDas Wort hat der Kollege Tankred Schipansk...         -1   \n",
      "907643  \\n\\nVielen Dank. – Frau Präsidentin! Liebe Kol...          4   \n",
      "\n",
      "                                              documentUrl  \\\n",
      "0       https://dip21.bundestag.de/dip21/btp/01/01002.pdf   \n",
      "1       https://dip21.bundestag.de/dip21/btp/01/01002.pdf   \n",
      "2       https://dip21.bundestag.de/dip21/btp/01/01002.pdf   \n",
      "3       https://dip21.bundestag.de/dip21/btp/01/01002.pdf   \n",
      "4       https://dip21.bundestag.de/dip21/btp/01/01002.pdf   \n",
      "...                                                   ...   \n",
      "907639  https://dip21.bundestag.de/dip21/btp/19/19228.pdf   \n",
      "907640  https://dip21.bundestag.de/dip21/btp/19/19228.pdf   \n",
      "907641  https://dip21.bundestag.de/dip21/btp/19/19228.pdf   \n",
      "907642  https://dip21.bundestag.de/dip21/btp/19/19228.pdf   \n",
      "907643  https://dip21.bundestag.de/dip21/btp/19/19228.pdf   \n",
      "\n",
      "                  positionShort              positionLong        date  \n",
      "0       Presidium of Parliament                 präsident  1949-09-12  \n",
      "1                         Guest  präsident des bundesrats  1949-09-12  \n",
      "2       Presidium of Parliament                 präsident  1949-09-12  \n",
      "3                         Guest           bundespräsident  1949-09-12  \n",
      "4       Presidium of Parliament                 präsident  1949-09-12  \n",
      "...                         ...                       ...         ...  \n",
      "907639     Member of Parliament                       NaN  2021-05-07  \n",
      "907640  Presidium of Parliament           Vizepräsidentin  2021-05-07  \n",
      "907641     Member of Parliament                       NaN  2021-05-07  \n",
      "907642  Presidium of Parliament           Vizepräsidentin  2021-05-07  \n",
      "907643     Member of Parliament                       NaN  2021-05-07  \n",
      "\n",
      "[907644 rows x 12 columns]\n"
     ]
    }
   ],
   "source": [
    "import pandas as pd\n",
    "import csv\n",
    "from sqlalchemy import create_engine\n",
    "\n",
    "df = pd.read_csv (r'/Users/margithain/Desktop/CoalitioNetwork/data_opendiscourse/speeches.csv')\n",
    "print (df)\n",
    "\n",
    "df['date'].dtype\n",
    "df['date'] = pd.to_datetime(df['date'])"
   ]
  },
  {
   "cell_type": "code",
   "execution_count": 5,
   "id": "e9a8cbf1",
   "metadata": {
    "scrolled": true
   },
   "outputs": [],
   "source": [
    "df['year'] = df['date'].dt.year"
   ]
  },
  {
   "cell_type": "code",
   "execution_count": 6,
   "id": "05e540d4",
   "metadata": {},
   "outputs": [],
   "source": [
    "df.set_index('year', inplace = True)"
   ]
  },
  {
   "cell_type": "code",
   "execution_count": 7,
   "id": "71400c99",
   "metadata": {},
   "outputs": [
    {
     "data": {
      "text/plain": [
       "Int64Index([1949, 1949, 1949, 1949, 1949, 1949, 1949, 1949, 1949, 1949,\n",
       "            ...\n",
       "            2021, 2021, 2021, 2021, 2021, 2021, 2021, 2021, 2021, 2021],\n",
       "           dtype='int64', name='year', length=907644)"
      ]
     },
     "execution_count": 7,
     "metadata": {},
     "output_type": "execute_result"
    }
   ],
   "source": [
    "df.index"
   ]
  },
  {
   "cell_type": "code",
   "execution_count": 12,
   "id": "cb5f5dbc",
   "metadata": {},
   "outputs": [],
   "source": [
    "speeches_new = df.loc[[2021]]"
   ]
  },
  {
   "cell_type": "code",
   "execution_count": 13,
   "id": "555b2dcd",
   "metadata": {},
   "outputs": [],
   "source": [
    "speeches_new.to_csv(r'/Users/margithain/Desktop/CoalitioNetwork/data_opendiscourse/speeches_new.csv', index = False)"
   ]
  },
  {
   "cell_type": "code",
   "execution_count": null,
   "id": "e4921acd",
   "metadata": {},
   "outputs": [],
   "source": []
  }
 ],
 "metadata": {
  "kernelspec": {
   "display_name": "Python 3",
   "language": "python",
   "name": "python3"
  },
  "language_info": {
   "codemirror_mode": {
    "name": "ipython",
    "version": 3
   },
   "file_extension": ".py",
   "mimetype": "text/x-python",
   "name": "python",
   "nbconvert_exporter": "python",
   "pygments_lexer": "ipython3",
   "version": "3.8.8"
  }
 },
 "nbformat": 4,
 "nbformat_minor": 5
}
