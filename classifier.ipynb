{
 "cells": [
  {
   "cell_type": "markdown",
   "metadata": {},
   "source": [
    "# Importing libaries"
   ]
  },
  {
   "cell_type": "code",
   "execution_count": 1,
   "metadata": {},
   "outputs": [],
   "source": [
    "#data processing and importing\n",
    "import pandas as pd\n",
    "import numpy as np\n",
    "import csv\n",
    "import tensorflow as tf\n",
    "from tensorflow import keras\n",
    "import seaborn as sns\n",
    "import matplotlib as plt \n",
    "\n",
    "#label encoder\n",
    "from sklearn import preprocessing\n",
    "\n",
    "#text transformation via spacy and keras \n",
    "import spacy\n",
    "from keras.layers import TextVectorization\n",
    "from tensorflow.keras import utils\n",
    "\n",
    "#lstm model \n",
    "from keras import backend as K\n",
    "from tensorflow.keras.models import Sequential \n",
    "from tensorflow.keras.initializers import Constant\n",
    "from tensorflow.keras.layers import Embedding, Bidirectional, LSTM\n",
    "from tensorflow.keras.layers import Dense\n",
    "from tensorflow.keras.optimizers import Adam\n",
    "from tensorflow.keras.losses import CategoricalCrossentropy"
   ]
  },
  {
   "cell_type": "markdown",
   "metadata": {},
   "source": [
    "***"
   ]
  },
  {
   "cell_type": "markdown",
   "metadata": {},
   "source": [
    "# Importing and preparing the data"
   ]
  },
  {
   "cell_type": "markdown",
   "metadata": {},
   "source": [
    "*Importing raw data*"
   ]
  },
  {
   "cell_type": "code",
   "execution_count": 2,
   "metadata": {},
   "outputs": [],
   "source": [
    "#import speeches for 2021 as sample\n",
    "speeches_df = pd.read_csv('data/speeches.csv')"
   ]
  },
  {
   "cell_type": "code",
   "execution_count": 3,
   "metadata": {},
   "outputs": [],
   "source": [
    "#import faction id \n",
    "faction_df = pd.read_csv('data/factions.csv')\n",
    "faction_df = faction_df.rename(columns={'id':'factionId'})"
   ]
  },
  {
   "cell_type": "code",
   "execution_count": 4,
   "metadata": {},
   "outputs": [],
   "source": [
    "#merging the two dataframes\n",
    "data = pd.merge(left = speeches_df, right = faction_df, on = 'factionId', how = 'inner')"
   ]
  },
  {
   "cell_type": "code",
   "execution_count": 5,
   "metadata": {},
   "outputs": [],
   "source": [
    "#removing all speeches that are older than 5 years\n",
    "data['date'] = pd.to_datetime(data['date'])\n",
    "data= data.set_index(['date'])\n",
    "data.sort_index(inplace=True, ascending=True)\n",
    "data = data.loc['2015-10-01':]"
   ]
  },
  {
   "cell_type": "code",
   "execution_count": 6,
   "metadata": {},
   "outputs": [
    {
     "data": {
      "text/html": [
       "<div>\n",
       "<style scoped>\n",
       "    .dataframe tbody tr th:only-of-type {\n",
       "        vertical-align: middle;\n",
       "    }\n",
       "\n",
       "    .dataframe tbody tr th {\n",
       "        vertical-align: top;\n",
       "    }\n",
       "\n",
       "    .dataframe thead th {\n",
       "        text-align: right;\n",
       "    }\n",
       "</style>\n",
       "<table border=\"1\" class=\"dataframe\">\n",
       "  <thead>\n",
       "    <tr style=\"text-align: right;\">\n",
       "      <th></th>\n",
       "      <th>id</th>\n",
       "      <th>session</th>\n",
       "      <th>electoralTerm</th>\n",
       "      <th>firstName</th>\n",
       "      <th>lastName</th>\n",
       "      <th>politicianId</th>\n",
       "      <th>speechContent</th>\n",
       "      <th>factionId</th>\n",
       "      <th>documentUrl</th>\n",
       "      <th>positionShort</th>\n",
       "      <th>positionLong</th>\n",
       "      <th>fullName</th>\n",
       "    </tr>\n",
       "    <tr>\n",
       "      <th>abbreviation</th>\n",
       "      <th></th>\n",
       "      <th></th>\n",
       "      <th></th>\n",
       "      <th></th>\n",
       "      <th></th>\n",
       "      <th></th>\n",
       "      <th></th>\n",
       "      <th></th>\n",
       "      <th></th>\n",
       "      <th></th>\n",
       "      <th></th>\n",
       "      <th></th>\n",
       "    </tr>\n",
       "  </thead>\n",
       "  <tbody>\n",
       "    <tr>\n",
       "      <th>AfD</th>\n",
       "      <td>4437</td>\n",
       "      <td>4437</td>\n",
       "      <td>4437</td>\n",
       "      <td>4437</td>\n",
       "      <td>4437</td>\n",
       "      <td>4437</td>\n",
       "      <td>4437</td>\n",
       "      <td>4437</td>\n",
       "      <td>4437</td>\n",
       "      <td>4437</td>\n",
       "      <td>0</td>\n",
       "      <td>4437</td>\n",
       "    </tr>\n",
       "    <tr>\n",
       "      <th>CDU/CSU</th>\n",
       "      <td>11511</td>\n",
       "      <td>11511</td>\n",
       "      <td>11511</td>\n",
       "      <td>11508</td>\n",
       "      <td>11508</td>\n",
       "      <td>11511</td>\n",
       "      <td>11511</td>\n",
       "      <td>11511</td>\n",
       "      <td>11511</td>\n",
       "      <td>11511</td>\n",
       "      <td>0</td>\n",
       "      <td>11511</td>\n",
       "    </tr>\n",
       "    <tr>\n",
       "      <th>DIE LINKE.</th>\n",
       "      <td>5574</td>\n",
       "      <td>5574</td>\n",
       "      <td>5574</td>\n",
       "      <td>5574</td>\n",
       "      <td>5574</td>\n",
       "      <td>5574</td>\n",
       "      <td>5573</td>\n",
       "      <td>5574</td>\n",
       "      <td>5574</td>\n",
       "      <td>5574</td>\n",
       "      <td>0</td>\n",
       "      <td>5574</td>\n",
       "    </tr>\n",
       "    <tr>\n",
       "      <th>FDP</th>\n",
       "      <td>3888</td>\n",
       "      <td>3888</td>\n",
       "      <td>3888</td>\n",
       "      <td>3888</td>\n",
       "      <td>3888</td>\n",
       "      <td>3888</td>\n",
       "      <td>3888</td>\n",
       "      <td>3888</td>\n",
       "      <td>3888</td>\n",
       "      <td>3888</td>\n",
       "      <td>0</td>\n",
       "      <td>3888</td>\n",
       "    </tr>\n",
       "    <tr>\n",
       "      <th>Fraktionslos</th>\n",
       "      <td>130</td>\n",
       "      <td>130</td>\n",
       "      <td>130</td>\n",
       "      <td>130</td>\n",
       "      <td>130</td>\n",
       "      <td>130</td>\n",
       "      <td>130</td>\n",
       "      <td>130</td>\n",
       "      <td>130</td>\n",
       "      <td>130</td>\n",
       "      <td>0</td>\n",
       "      <td>130</td>\n",
       "    </tr>\n",
       "    <tr>\n",
       "      <th>Grüne</th>\n",
       "      <td>6777</td>\n",
       "      <td>6777</td>\n",
       "      <td>6777</td>\n",
       "      <td>6777</td>\n",
       "      <td>6777</td>\n",
       "      <td>6777</td>\n",
       "      <td>6777</td>\n",
       "      <td>6777</td>\n",
       "      <td>6777</td>\n",
       "      <td>6777</td>\n",
       "      <td>0</td>\n",
       "      <td>6777</td>\n",
       "    </tr>\n",
       "    <tr>\n",
       "      <th>SPD</th>\n",
       "      <td>7732</td>\n",
       "      <td>7732</td>\n",
       "      <td>7732</td>\n",
       "      <td>7732</td>\n",
       "      <td>7732</td>\n",
       "      <td>7732</td>\n",
       "      <td>7731</td>\n",
       "      <td>7732</td>\n",
       "      <td>7732</td>\n",
       "      <td>7732</td>\n",
       "      <td>0</td>\n",
       "      <td>7732</td>\n",
       "    </tr>\n",
       "    <tr>\n",
       "      <th>not found</th>\n",
       "      <td>46724</td>\n",
       "      <td>46724</td>\n",
       "      <td>46724</td>\n",
       "      <td>46723</td>\n",
       "      <td>46724</td>\n",
       "      <td>46724</td>\n",
       "      <td>46706</td>\n",
       "      <td>46724</td>\n",
       "      <td>46724</td>\n",
       "      <td>46724</td>\n",
       "      <td>46203</td>\n",
       "      <td>46724</td>\n",
       "    </tr>\n",
       "  </tbody>\n",
       "</table>\n",
       "</div>"
      ],
      "text/plain": [
       "                 id  session  electoralTerm  firstName  lastName  \\\n",
       "abbreviation                                                       \n",
       "AfD            4437     4437           4437       4437      4437   \n",
       "CDU/CSU       11511    11511          11511      11508     11508   \n",
       "DIE LINKE.     5574     5574           5574       5574      5574   \n",
       "FDP            3888     3888           3888       3888      3888   \n",
       "Fraktionslos    130      130            130        130       130   \n",
       "Grüne          6777     6777           6777       6777      6777   \n",
       "SPD            7732     7732           7732       7732      7732   \n",
       "not found     46724    46724          46724      46723     46724   \n",
       "\n",
       "              politicianId  speechContent  factionId  documentUrl  \\\n",
       "abbreviation                                                        \n",
       "AfD                   4437           4437       4437         4437   \n",
       "CDU/CSU              11511          11511      11511        11511   \n",
       "DIE LINKE.            5574           5573       5574         5574   \n",
       "FDP                   3888           3888       3888         3888   \n",
       "Fraktionslos           130            130        130          130   \n",
       "Grüne                 6777           6777       6777         6777   \n",
       "SPD                   7732           7731       7732         7732   \n",
       "not found            46724          46706      46724        46724   \n",
       "\n",
       "              positionShort  positionLong  fullName  \n",
       "abbreviation                                         \n",
       "AfD                    4437             0      4437  \n",
       "CDU/CSU               11511             0     11511  \n",
       "DIE LINKE.             5574             0      5574  \n",
       "FDP                    3888             0      3888  \n",
       "Fraktionslos            130             0       130  \n",
       "Grüne                  6777             0      6777  \n",
       "SPD                    7732             0      7732  \n",
       "not found             46724         46203     46724  "
      ]
     },
     "execution_count": 6,
     "metadata": {},
     "output_type": "execute_result"
    }
   ],
   "source": [
    "#examining the\n",
    "data.groupby('abbreviation').count()"
   ]
  },
  {
   "cell_type": "code",
   "execution_count": 7,
   "metadata": {},
   "outputs": [],
   "source": [
    "#dropping all columns that are not needed\n",
    "data = data[['speechContent', 'abbreviation']]\n",
    "data.rename(columns={'abbreviation':'partie'}, inplace=True)"
   ]
  },
  {
   "cell_type": "code",
   "execution_count": 8,
   "metadata": {},
   "outputs": [
    {
     "data": {
      "text/plain": [
       "not found       46724\n",
       "CDU/CSU         11511\n",
       "SPD              7732\n",
       "Grüne            6777\n",
       "DIE LINKE.       5574\n",
       "AfD              4437\n",
       "FDP              3888\n",
       "Fraktionslos      130\n",
       "Name: partie, dtype: int64"
      ]
     },
     "execution_count": 8,
     "metadata": {},
     "output_type": "execute_result"
    }
   ],
   "source": [
    "#expecting the value count of all columns \n",
    "data.partie.value_counts()"
   ]
  },
  {
   "cell_type": "code",
   "execution_count": 9,
   "metadata": {},
   "outputs": [
    {
     "data": {
      "text/html": [
       "<div>\n",
       "<style scoped>\n",
       "    .dataframe tbody tr th:only-of-type {\n",
       "        vertical-align: middle;\n",
       "    }\n",
       "\n",
       "    .dataframe tbody tr th {\n",
       "        vertical-align: top;\n",
       "    }\n",
       "\n",
       "    .dataframe thead th {\n",
       "        text-align: right;\n",
       "    }\n",
       "</style>\n",
       "<table border=\"1\" class=\"dataframe\">\n",
       "  <thead>\n",
       "    <tr style=\"text-align: right;\">\n",
       "      <th></th>\n",
       "      <th>speechContent</th>\n",
       "      <th>partie</th>\n",
       "    </tr>\n",
       "    <tr>\n",
       "      <th>date</th>\n",
       "      <th></th>\n",
       "      <th></th>\n",
       "    </tr>\n",
       "  </thead>\n",
       "  <tbody>\n",
       "    <tr>\n",
       "      <th>2015-10-01</th>\n",
       "      <td>Sehr geehrte Frau Präsidentin! Liebe Kolleginn...</td>\n",
       "      <td>CDU/CSU</td>\n",
       "    </tr>\n",
       "    <tr>\n",
       "      <th>2015-10-01</th>\n",
       "      <td>Frau Präsidentin! Liebe Kolleginnen und Kolleg...</td>\n",
       "      <td>CDU/CSU</td>\n",
       "    </tr>\n",
       "    <tr>\n",
       "      <th>2015-10-01</th>\n",
       "      <td>Vielen Dank, Frau Präsidentin . - Ich wollte k...</td>\n",
       "      <td>CDU/CSU</td>\n",
       "    </tr>\n",
       "    <tr>\n",
       "      <th>2015-10-01</th>\n",
       "      <td>Da habe ich ja noch mal Glück gehabt, Frau Prä...</td>\n",
       "      <td>CDU/CSU</td>\n",
       "    </tr>\n",
       "    <tr>\n",
       "      <th>2015-10-01</th>\n",
       "      <td>Da ich ebenfalls bei der Anhörung anwesend war...</td>\n",
       "      <td>CDU/CSU</td>\n",
       "    </tr>\n",
       "    <tr>\n",
       "      <th>...</th>\n",
       "      <td>...</td>\n",
       "      <td>...</td>\n",
       "    </tr>\n",
       "    <tr>\n",
       "      <th>2021-05-07</th>\n",
       "      <td>\\n\\nSehr geehrter Herr Präsident! Sehr geehrte...</td>\n",
       "      <td>Grüne</td>\n",
       "    </tr>\n",
       "    <tr>\n",
       "      <th>2021-05-07</th>\n",
       "      <td>\\n\\nSehr geehrter Herr Präsident! Liebe Kolleg...</td>\n",
       "      <td>Grüne</td>\n",
       "    </tr>\n",
       "    <tr>\n",
       "      <th>2021-05-07</th>\n",
       "      <td>\\n\\nWir brauchen eine gemeinsame Öffentlichkei...</td>\n",
       "      <td>Grüne</td>\n",
       "    </tr>\n",
       "    <tr>\n",
       "      <th>2021-05-07</th>\n",
       "      <td>\\n\\nHerzlichen Dank, Frau Präsidentin. – Frau ...</td>\n",
       "      <td>DIE LINKE.</td>\n",
       "    </tr>\n",
       "    <tr>\n",
       "      <th>2021-05-07</th>\n",
       "      <td>\\n\\nSehr geehrte Frau Präsidentin! Meine Damen...</td>\n",
       "      <td>AfD</td>\n",
       "    </tr>\n",
       "  </tbody>\n",
       "</table>\n",
       "<p>40049 rows × 2 columns</p>\n",
       "</div>"
      ],
      "text/plain": [
       "                                                speechContent      partie\n",
       "date                                                                     \n",
       "2015-10-01  Sehr geehrte Frau Präsidentin! Liebe Kolleginn...     CDU/CSU\n",
       "2015-10-01  Frau Präsidentin! Liebe Kolleginnen und Kolleg...     CDU/CSU\n",
       "2015-10-01  Vielen Dank, Frau Präsidentin . - Ich wollte k...     CDU/CSU\n",
       "2015-10-01  Da habe ich ja noch mal Glück gehabt, Frau Prä...     CDU/CSU\n",
       "2015-10-01  Da ich ebenfalls bei der Anhörung anwesend war...     CDU/CSU\n",
       "...                                                       ...         ...\n",
       "2021-05-07  \\n\\nSehr geehrter Herr Präsident! Sehr geehrte...       Grüne\n",
       "2021-05-07  \\n\\nSehr geehrter Herr Präsident! Liebe Kolleg...       Grüne\n",
       "2021-05-07  \\n\\nWir brauchen eine gemeinsame Öffentlichkei...       Grüne\n",
       "2021-05-07  \\n\\nHerzlichen Dank, Frau Präsidentin. – Frau ...  DIE LINKE.\n",
       "2021-05-07  \\n\\nSehr geehrte Frau Präsidentin! Meine Damen...         AfD\n",
       "\n",
       "[40049 rows x 2 columns]"
      ]
     },
     "execution_count": 9,
     "metadata": {},
     "output_type": "execute_result"
    }
   ],
   "source": [
    "#removing all parties expect the biggest 6 parties of 2021 Germany \n",
    "data = data[data['partie'] != ('not found')]\n",
    "data"
   ]
  },
  {
   "cell_type": "markdown",
   "metadata": {},
   "source": [
    "***"
   ]
  },
  {
   "cell_type": "markdown",
   "metadata": {},
   "source": [
    "# Creating the dataframe"
   ]
  },
  {
   "cell_type": "code",
   "execution_count": 10,
   "metadata": {},
   "outputs": [
    {
     "data": {
      "text/plain": [
       "partie\n",
       "AfD              5.0\n",
       "CDU/CSU          5.0\n",
       "DIE LINKE.       5.0\n",
       "FDP              5.0\n",
       "Fraktionslos    14.0\n",
       "Grüne            5.0\n",
       "SPD              5.0\n",
       "Name: speech_character_count, dtype: float64"
      ]
     },
     "execution_count": 10,
     "metadata": {},
     "output_type": "execute_result"
    }
   ],
   "source": [
    "#adding a column \"string_length\" to the DataFrame\n",
    "data[['speech_character_count']]= data['speechContent'].str.len()\n",
    "data.groupby('partie')['speech_character_count'].min()"
   ]
  },
  {
   "cell_type": "code",
   "execution_count": 11,
   "metadata": {},
   "outputs": [
    {
     "data": {
      "image/png": "[encoded data removed]",
      "text/plain": [
       "<Figure size 1296x648 with 1 Axes>"
      ]
     },
     "metadata": {},
     "output_type": "display_data"
    }
   ],
   "source": [
    "##distribution plot before reducing the amount of speeches\n",
    "sns.set_theme(style=\"whitegrid\", palette = \"Set2\")\n",
    "sns.set(rc = {'figure.figsize':(18,9)})\n",
    "sns.kdeplot(data=data, x='speech_character_count', hue = 'partie')\n",
    "plt.pyplot.title(label = 'Character count for all speeches for each political partie', size = 18)\n",
    "plt.pyplot.xlabel(xlabel = 'Character count', size = 10)\n",
    "plt.pyplot.ylabel(ylabel = 'Distribution', size = 10);"
   ]
  },
  {
   "cell_type": "code",
   "execution_count": 12,
   "metadata": {},
   "outputs": [
    {
     "data": {
      "text/plain": [
       "partie\n",
       "AfD             1528\n",
       "CDU/CSU         5644\n",
       "DIE LINKE.      1850\n",
       "FDP             1045\n",
       "Fraktionslos       5\n",
       "Grüne           1977\n",
       "SPD             3547\n",
       "Name: speechContent, dtype: int64"
      ]
     },
     "execution_count": 12,
     "metadata": {},
     "output_type": "execute_result"
    }
   ],
   "source": [
    "#reducing the amount of data\n",
    "data = data.loc[data['speech_character_count'] >= 3900]\n",
    "data.groupby('partie')['speechContent'].count()"
   ]
  },
  {
   "cell_type": "code",
   "execution_count": 13,
   "metadata": {},
   "outputs": [],
   "source": [
    "#creating small samples of speeches, for each political party only 50 \n",
    "max_number_speeches = 800\n",
    "\n",
    "cdu_csu = data[data['partie'] == 'CDU/CSU'][:max_number_speeches]\n",
    "spd = data[data['partie'] == 'SPD'][:max_number_speeches]\n",
    "fdp = data[data['partie'] == 'FDP'][:max_number_speeches]\n",
    "afd = data[data['partie'] == 'AfD'][:max_number_speeches]\n",
    "gruene = data[data['partie'] == 'Grüne'][:max_number_speeches]\n",
    "linke = data[data['partie'] == 'DIE LINKE.'][:max_number_speeches]\n",
    "\n",
    "data = pd.concat([cdu_csu, spd, fdp, afd, gruene, linke], ignore_index=True)"
   ]
  },
  {
   "cell_type": "code",
   "execution_count": 14,
   "metadata": {},
   "outputs": [
    {
     "data": {
      "image/png": "[encoded data removed]",
      "text/plain": [
       "<Figure size 1296x648 with 1 Axes>"
      ]
     },
     "metadata": {},
     "output_type": "display_data"
    }
   ],
   "source": [
    "#distribution plot after reducing the amount of speeches\n",
    "sns.set_theme(style=\"whitegrid\", palette = \"Set2\")\n",
    "sns.set(rc = {'figure.figsize':(18,9)})\n",
    "sns.kdeplot(data=data, x='speech_character_count', hue = 'partie')\n",
    "plt.pyplot.title(label = 'Character count for all speeches for each political partie', size = 18)\n",
    "plt.pyplot.xlabel(xlabel = 'Character count', size = 10)\n",
    "plt.pyplot.ylabel(ylabel = 'Distribution', size = 10);"
   ]
  },
  {
   "cell_type": "markdown",
   "metadata": {},
   "source": [
    "***"
   ]
  },
  {
   "cell_type": "markdown",
   "metadata": {},
   "source": [
    "# Checking the length of all speeches"
   ]
  },
  {
   "cell_type": "code",
   "execution_count": 15,
   "metadata": {},
   "outputs": [
    {
     "name": "stdout",
     "output_type": "stream",
     "text": [
      "The minimal length of one speech is 3900.\n"
     ]
    }
   ],
   "source": [
    "#checking the minimal character count\n",
    "min_length = int(data['speech_character_count'].min()) #The int() method returns an integer object from any number or string\n",
    "print(f'The minimal length of one speech is {min_length}.')"
   ]
  },
  {
   "cell_type": "code",
   "execution_count": 16,
   "metadata": {},
   "outputs": [
    {
     "name": "stdout",
     "output_type": "stream",
     "text": [
      "The maximal length of one speech is 25838.\n"
     ]
    }
   ],
   "source": [
    "#checking the maximial character count\n",
    "max_length = int(data['speech_character_count'].max()) #The int() method returns an integer object from any number or string\n",
    "print(f'The maximal length of one speech is {max_length}.')"
   ]
  },
  {
   "cell_type": "code",
   "execution_count": 17,
   "metadata": {},
   "outputs": [
    {
     "name": "stdout",
     "output_type": "stream",
     "text": [
      "The length of the median for all speeches is 5118.\n"
     ]
    }
   ],
   "source": [
    "#checking the median character count for all speeches\n",
    "median_length = int(data['speech_character_count'].median()) #The int() method returns an integer object from any number or string\n",
    "print(f'The length of the median for all speeches is {median_length}.')"
   ]
  },
  {
   "cell_type": "code",
   "execution_count": 18,
   "metadata": {},
   "outputs": [
    {
     "name": "stdout",
     "output_type": "stream",
     "text": [
      "The length of the mean for all speeches is 5576.\n"
     ]
    }
   ],
   "source": [
    "#checking the average character count for all speech \n",
    "mean_length = int(data['speech_character_count'].mean())\n",
    "print(f'The length of the mean for all speeches is {mean_length}.')"
   ]
  },
  {
   "cell_type": "markdown",
   "metadata": {},
   "source": [
    "***"
   ]
  },
  {
   "cell_type": "markdown",
   "metadata": {},
   "source": [
    "# Cleaning the speeches using RegEx"
   ]
  },
  {
   "cell_type": "markdown",
   "metadata": {},
   "source": [
    "Remarks: Since I want to include grammatical information in my model’s input vectors, I don’t want to remove stopwords or lemmatize words. Also, as capitilazation is very crucial in the German language, I did not lower the single words. I only removed special characters via RegEx, did vectorizing via word embedding and padding. "
   ]
  },
  {
   "cell_type": "markdown",
   "metadata": {},
   "source": [
    "*RegEx*"
   ]
  },
  {
   "cell_type": "code",
   "execution_count": 19,
   "metadata": {},
   "outputs": [],
   "source": [
    "#defining X_series and y_series\n",
    "X_series = data['speechContent']\n",
    "y_series = data['partie']"
   ]
  },
  {
   "cell_type": "code",
   "execution_count": 20,
   "metadata": {},
   "outputs": [
    {
     "data": {
      "text/plain": [
       "0    Sehr geehrte Frau Präsidentin! Liebe Kolleginn...\n",
       "1    Frau Präsidentin! Liebe Kolleginnen und Kolleg...\n",
       "2    Da habe ich ja noch mal Glück gehabt, Frau Prä...\n",
       "3    Sehr geehrte Frau Präsidentin! Verehrte Kolleg...\n",
       "4    Sehr geehrte Frau Präsidentin! Liebe Kolleginn...\n",
       "Name: speechContent, dtype: object"
      ]
     },
     "execution_count": 20,
     "metadata": {},
     "output_type": "execute_result"
    }
   ],
   "source": [
    "#examining X_series\n",
    "X_series.head()"
   ]
  },
  {
   "cell_type": "code",
   "execution_count": 21,
   "metadata": {},
   "outputs": [
    {
     "data": {
      "text/plain": [
       "'Frau Präsidentin! Liebe Kolleginnen und Kollegen!\\n\\nMeine sehr verehrten Damen und Herren! Wir haben\\nim Parlament heute früh wie auch vorhin während der\\nMenschenrechtsdebatte beeindruckend erlebt, wie sich\\nunser Parlament die Frage der Flüchtlinge im Inland zu\\nHerzen nimmt . In der jetzigen Debatte geht es darum,\\nwie wir als Europäische Union mit der Flüchtlingslage an\\nden europäischen Grenzen umgehen . 22 Mitgliedstaaten\\nder Europäischen Union engagieren sich in der Mission\\nEUNAVFOR MED, diese stellen neun Schiffe und zwölf\\nLuftfahrzeuge zur Verfügung . Das ist ein Zeichen euro\\xad\\npäischer Solidarität, aber es ist eben auch nur ein Teil der\\nnotwendigen Strategie, die wir brauchen .\\n\\nHerr Dr . Neu, ich weise eindeutig zurück, was Sie hier\\nangesprochen haben . Wenn Sie den Operationsplan ge\\xad\\nnau lesen,\\n\\n({0})\\n\\ndann werden Sie feststellen, dass eine Abweisung der\\nSchiffe nicht vorgesehen ist .\\n\\n({1})\\n\\nEs kann aber sein, dass Sie den nötigen Annex nicht lesen\\ndurften, weil Sie die notwendige Sicherheitsüberprüfung\\nnicht haben . Aber das möchte ich nicht unterstellen .\\n\\n({2})\\n\\nIch möchte das trotzdem sehr ernsthaft aufgreifen . Im\\nJahr 2003 hat die Europäische Union in ihrer Sicherheits\\xad\\nstrategie gefordert, dass wir in den nächsten Jahren - also\\nausgehend von 2003 - alles daransetzen müssen, dass in\\nder südlichen Nachbarschaft der Europäischen Union ein\\nRing gut regierter Staaten entsteht, die stabil sind und\\nmit denen wir vertrauensvoll zusammenarbeiten können .\\nMeine sehr verehrten Damen und Herren, das ist uns\\nnicht gelungen . Wir müssen deshalb unsere außen\\xad und\\nentwicklungspolitischen Strategien deutlich besser auf\\xad\\neinander abstimmen .\\n\\nEin Ansatz ist die Mission EUNAVFOR MED, bei\\nder es in der ersten Phase um die Aufklärung der Schlep\\xad\\npernetzwerke ging, und bei der es jetzt darum geht, die\\nSchlepperboote und das Netzwerk der Beobachter der\\nSchlepper auf dem Mittelmeer auszuheben . Das kann\\naber nur ein allererster Schritt sein . Wir müssen deshalb\\nalles daransetzen, zusammen mit dem Sonderbeauftrag\\xad\\nten der Vereinten Nationen León und auch mit seinem\\nNachfolger als EU\\xadSonderbeauftragter zu erreichen, dass\\nin Libyen eine Einheitsregierung entsteht . Die Bundes\\xad\\nrepublik Deutschland, aber auch Marokko haben wesent\\xad\\nliche Verdienste daran, dass die beiden Parteien in Tri\\xad\\npolis und in Bengasi bereits miteinander sprechen, und\\nwir hoffen, dass das Ziel bis zum Jahresende erreicht ist .\\n\\nDas, was wir mit dem Festsetzen der Schlepperboote\\nmachen, ist ja nur ein Tropfen auf den heißen Stein . Wir\\nmüssen natürlich auch in den libyschen Hoheitsgewäs\\xad\\nsern agieren können, und wir sollten das, was die Euro\\xad\\n\\npäische Union im Jahr 2013 begonnen hat, fortsetzen,\\nnämlich eine Grenzsicherungsmission nach dem Vorbild\\nder Mission EUBAM, also eine zivil organisierte Grenz\\xad\\nsicherungsunterstützungsmission, etablieren, die die\\nGrenzen Libyens unterstützt . Warum ist das nötig? In Li\\xad\\nbyen sind etwa 1 Million Menschen in Flüchtlingslagern .\\nEs hilft uns wenig, wenn wir immer nur die Flüchtlin\\xad\\nge aufnehmen, die den harten Weg über das Mittelmeer\\nwagen . Wir müssen neben der Fluchtursachenbekämp\\xad\\nfung - ich komme nachher darauf zurück - im nördlichen\\nAfrika Einrichtungen schaffen, in denen die Flüchtlinge\\nsichere Aufenthaltsorte bekommen .\\n\\n({3})\\n\\nDas bekommen wir eben nur hin, wenn wir das Mandat\\nder libyschen Regierung erhalten, auch an Land aktiv zu\\nwerden . Ich denke, dass dies im Rahmen einer GASP\\xad/\\nGSVP\\xadPolizeimission durchaus leistbar ist .\\n\\nIch möchte dafür werben, dass wir alles daranset\\xad\\nzen, auch unserer Öffentlichkeit zu erklären, dass wir\\ndie Ursachenbekämpfung angehen, aber auch die ärgste\\nNot lindern müssen, indem wir die Flüchtlinge aus den\\nSchlepperbooten befreien und auf den Boden der Euro\\xad\\npäischen Union bringen . Das steht auch eindeutig so im\\nOperationsplan .\\n\\nEin letzter Punkt, der mir am Herzen liegt, ist unser\\nUmgang mit Afrika . Wir werden im November wieder\\neinen gemeinsamen Gipfel der Europäischen Union mit\\nder Afrikanischen Union auf Malta haben . Kernpunkt\\ndieses Treffens werden folgende Fragen sein: Wie schaf\\xad\\nfen wir in der Subsahara gute, sichere Zonen? Wie be\\xad\\nkämpfen wir dort Flüchtlingsursachen? Und - das sollte\\ndas Thema der Europäischen Union sein -: Wie befä\\xad\\nhigen wir die Afrikanische Union, auf ihrem Kontinent\\nVerantwortung wahrzunehmen, gute Regierungsführung\\ndurchzusetzen und - mindestens genauso wichtig - für\\ndie Flüchtlinge gute Lebensbedingungen in den jeweili\\xad\\ngen Flüchtlingseinrichtungen zu schaffen? Denn dort das zu sagen, gehört zur Ehrlichkeit dazu - werden wir\\nuns wesentlich deutlicher engagieren müssen .\\n\\nEs geht auch um die Unterbindung von Terrornetzwer\\xad\\nken, denen in Libyen Tür und Tor geöffnet wurde . Es\\ngeht auch darum, dass wir die Ausbreitung von Waffen\\nund von Proliferation, aber auch von ausgebildeten Ter\\xad\\nroristen eindämmen . Das bedeutet eben, dass wir neben\\nentwicklungspolitischer Zusammenarbeit und außenpoli\\xad\\ntischen Strategien auch eine gewisse polizeiliche und mi\\xad\\nlitärische Begleitung brauchen .\\n\\n({4})\\n\\nWir nehmen aber auch sehr ernst, was die Nachbarstaa\\xad\\nten sagen . Wir hatten gestern eine Delegation der tunesi\\xad\\nschen Regierungspartei Nida Tunis zu Besuch bei uns .\\nVon deren Seite wurde die Sorge geäußert, dass sich der\\nEinsatz von EUNAVFOR MED möglicherweise, auch\\nunbeabsichtigt, gegen Fischerboote richten kann . Wir\\nmüssen also auch die Betroffenheit der Nachbarländer\\nernst nehmen . Wir wissen, dass in dem Operationsplan,\\nder letztlich vom Einsatzhauptquartier auf dem italieni\\xad\\nschen Flaggschiff sowie vom Operationshauptquartier\\nin Rom aus umgesetzt wird, sehr sensibel auf diese Be\\xad\\n\\ndingungen eingegangen wird und die teilnehmenden Sol\\xad\\ndaten auch in diese Richtung sensibilisiert werden .\\n\\nLassen Sie mich abschließend sagen: Diese Mission\\nist nur ein Tropfen auf den heißen Stein . Es ist aber ein\\nnotwendiger Schritt, um das Schleppernetzwerk lahm\\xad\\nzulegen . Viel wichtiger ist, dass wir eine gemeinsame\\nAfrikastrategie entwickeln und auch als Parlament ein\\ndeutliches Zeichen der Unterstützung an die eingesetzten\\nSoldatinnen und Soldaten und an die Entwicklungshelfer\\nim nördlichen Afrika senden . Wir wollen einen ganzheit\\xad\\nlichen Einsatz . Alle müssen zusammenarbeiten . Wir als\\nCDU/CSU\\xadFraktion unterstützen diese Mission deshalb .\\n\\nHerzlichen Dank .\\n\\n({5})\\n\\n'"
      ]
     },
     "execution_count": 21,
     "metadata": {},
     "output_type": "execute_result"
    }
   ],
   "source": [
    "X_series[18]  "
   ]
  },
  {
   "cell_type": "code",
   "execution_count": 22,
   "metadata": {},
   "outputs": [],
   "source": [
    "#cleaning the speeches using regex\n",
    "def clean_speech(series_speech):\n",
    "    series_speech = series_speech.str.replace('\\n',' ', regex = True) #removes all newlines \n",
    "    series_speech = series_speech.str.replace('\\xa0','', regex = True) #removes all \\xa0\n",
    "    series_speech = series_speech.str.replace('\\xad','', regex = True) #removes all \\xa0\n",
    "    series_speech = series_speech.str.replace(',','', regex = True) #removes all commas\n",
    "    series_speech = series_speech.str.replace('?','', regex = True) #removes all ?\n",
    "    series_speech = series_speech.str.replace('!','', regex = True) #removes all !\n",
    "    series_speech = series_speech.str.replace('.','', regex = True) #removes all .\n",
    "    series_speech = series_speech.str.replace('-','', regex = True) #removes all -\n",
    "    series_speech = series_speech.str.replace(':','', regex = True) #removes all :\n",
    "    series_speech = series_speech.str.replace(';','', regex = True) #removes all ;\n",
    "    series_speech = series_speech.str.replace('„','', regex = True) #removes all „\n",
    "    series_speech = series_speech.str.replace('“','', regex = True) #removes all “\n",
    "    series_speech = series_speech.str.replace('/','', regex = True) #removes all /\n",
    "    series_speech = series_speech.str.replace('(','', regex = True) #removes all (\n",
    "    series_speech = series_speech.str.replace(')','', regex = True) #removes all )\n",
    "    series_speech = series_speech.str.replace('{','', regex = True) #removes all {\n",
    "    series_speech = series_speech.str.replace('}','', regex = True) #removes all )\n",
    "    series_speech = series_speech.str.replace('[0-9]','', regex = True) #removes all digits\n",
    "    return series_speech\n",
    "\n",
    "\n",
    "X_series = clean_speech(X_series)"
   ]
  },
  {
   "cell_type": "code",
   "execution_count": 23,
   "metadata": {},
   "outputs": [
    {
     "data": {
      "text/plain": [
       "'Frau Präsidentin Liebe Kolleginnen und Kollegen  Meine sehr verehrten Damen und Herren Wir haben im Parlament heute früh wie auch vorhin während der Menschenrechtsdebatte beeindruckend erlebt wie sich unser Parlament die Frage der Flüchtlinge im Inland zu Herzen nimmt  In der jetzigen Debatte geht es darum wie wir als Europäische Union mit der Flüchtlingslage an den europäischen Grenzen umgehen   Mitgliedstaaten der Europäischen Union engagieren sich in der Mission EUNAVFOR MED diese stellen neun Schiffe und zwölf Luftfahrzeuge zur Verfügung  Das ist ein Zeichen euro päischer Solidarität aber es ist eben auch nur ein Teil der notwendigen Strategie die wir brauchen   Herr Dr  Neu ich weise eindeutig zurück was Sie hier angesprochen haben  Wenn Sie den Operationsplan ge nau lesen    dann werden Sie feststellen dass eine Abweisung der Schiffe nicht vorgesehen ist     Es kann aber sein dass Sie den nötigen Annex nicht lesen durften weil Sie die notwendige Sicherheitsüberprüfung nicht haben  Aber das möchte ich nicht unterstellen     Ich möchte das trotzdem sehr ernsthaft aufgreifen  Im Jahr  hat die Europäische Union in ihrer Sicherheits strategie gefordert dass wir in den nächsten Jahren  also ausgehend von   alles daransetzen müssen dass in der südlichen Nachbarschaft der Europäischen Union ein Ring gut regierter Staaten entsteht die stabil sind und mit denen wir vertrauensvoll zusammenarbeiten können  Meine sehr verehrten Damen und Herren das ist uns nicht gelungen  Wir müssen deshalb unsere außen und entwicklungspolitischen Strategien deutlich besser auf einander abstimmen   Ein Ansatz ist die Mission EUNAVFOR MED bei der es in der ersten Phase um die Aufklärung der Schlep pernetzwerke ging und bei der es jetzt darum geht die Schlepperboote und das Netzwerk der Beobachter der Schlepper auf dem Mittelmeer auszuheben  Das kann aber nur ein allererster Schritt sein  Wir müssen deshalb alles daransetzen zusammen mit dem Sonderbeauftrag ten der Vereinten Nationen León und auch mit seinem Nachfolger als EUSonderbeauftragter zu erreichen dass in Libyen eine Einheitsregierung entsteht  Die Bundes republik Deutschland aber auch Marokko haben wesent liche Verdienste daran dass die beiden Parteien in Tri polis und in Bengasi bereits miteinander sprechen und wir hoffen dass das Ziel bis zum Jahresende erreicht ist   Das was wir mit dem Festsetzen der Schlepperboote machen ist ja nur ein Tropfen auf den heißen Stein  Wir müssen natürlich auch in den libyschen Hoheitsgewäs sern agieren können und wir sollten das was die Euro  päische Union im Jahr  begonnen hat fortsetzen nämlich eine Grenzsicherungsmission nach dem Vorbild der Mission EUBAM also eine zivil organisierte Grenz sicherungsunterstützungsmission etablieren die die Grenzen Libyens unterstützt  Warum ist das nötig In Li byen sind etwa  Million Menschen in Flüchtlingslagern  Es hilft uns wenig wenn wir immer nur die Flüchtlin ge aufnehmen die den harten Weg über das Mittelmeer wagen  Wir müssen neben der Fluchtursachenbekämp fung  ich komme nachher darauf zurück  im nördlichen Afrika Einrichtungen schaffen in denen die Flüchtlinge sichere Aufenthaltsorte bekommen     Das bekommen wir eben nur hin wenn wir das Mandat der libyschen Regierung erhalten auch an Land aktiv zu werden  Ich denke dass dies im Rahmen einer GASP GSVPPolizeimission durchaus leistbar ist   Ich möchte dafür werben dass wir alles daranset zen auch unserer Öffentlichkeit zu erklären dass wir die Ursachenbekämpfung angehen aber auch die ärgste Not lindern müssen indem wir die Flüchtlinge aus den Schlepperbooten befreien und auf den Boden der Euro päischen Union bringen  Das steht auch eindeutig so im Operationsplan   Ein letzter Punkt der mir am Herzen liegt ist unser Umgang mit Afrika  Wir werden im November wieder einen gemeinsamen Gipfel der Europäischen Union mit der Afrikanischen Union auf Malta haben  Kernpunkt dieses Treffens werden folgende Fragen sein Wie schaf fen wir in der Subsahara gute sichere Zonen Wie be kämpfen wir dort Flüchtlingsursachen Und  das sollte das Thema der Europäischen Union sein  Wie befä higen wir die Afrikanische Union auf ihrem Kontinent Verantwortung wahrzunehmen gute Regierungsführung durchzusetzen und  mindestens genauso wichtig  für die Flüchtlinge gute Lebensbedingungen in den jeweili gen Flüchtlingseinrichtungen zu schaffen Denn dort das zu sagen gehört zur Ehrlichkeit dazu  werden wir uns wesentlich deutlicher engagieren müssen   Es geht auch um die Unterbindung von Terrornetzwer ken denen in Libyen Tür und Tor geöffnet wurde  Es geht auch darum dass wir die Ausbreitung von Waffen und von Proliferation aber auch von ausgebildeten Ter roristen eindämmen  Das bedeutet eben dass wir neben entwicklungspolitischer Zusammenarbeit und außenpoli tischen Strategien auch eine gewisse polizeiliche und mi litärische Begleitung brauchen     Wir nehmen aber auch sehr ernst was die Nachbarstaa ten sagen  Wir hatten gestern eine Delegation der tunesi schen Regierungspartei Nida Tunis zu Besuch bei uns  Von deren Seite wurde die Sorge geäußert dass sich der Einsatz von EUNAVFOR MED möglicherweise auch unbeabsichtigt gegen Fischerboote richten kann  Wir müssen also auch die Betroffenheit der Nachbarländer ernst nehmen  Wir wissen dass in dem Operationsplan der letztlich vom Einsatzhauptquartier auf dem italieni schen Flaggschiff sowie vom Operationshauptquartier in Rom aus umgesetzt wird sehr sensibel auf diese Be  dingungen eingegangen wird und die teilnehmenden Sol daten auch in diese Richtung sensibilisiert werden   Lassen Sie mich abschließend sagen Diese Mission ist nur ein Tropfen auf den heißen Stein  Es ist aber ein notwendiger Schritt um das Schleppernetzwerk lahm zulegen  Viel wichtiger ist dass wir eine gemeinsame Afrikastrategie entwickeln und auch als Parlament ein deutliches Zeichen der Unterstützung an die eingesetzten Soldatinnen und Soldaten und an die Entwicklungshelfer im nördlichen Afrika senden  Wir wollen einen ganzheit lichen Einsatz  Alle müssen zusammenarbeiten  Wir als CDUCSUFraktion unterstützen diese Mission deshalb   Herzlichen Dank     '"
      ]
     },
     "execution_count": 23,
     "metadata": {},
     "output_type": "execute_result"
    }
   ],
   "source": [
    "#final check-up\n",
    "len(X_series)              #checking if the length of the list is still 1200 \n",
    "X_series[18]                #expecting single speeches for check-up"
   ]
  },
  {
   "cell_type": "markdown",
   "metadata": {},
   "source": [
    "***"
   ]
  },
  {
   "cell_type": "markdown",
   "metadata": {},
   "source": [
    "# Creating tokens out of all speeches"
   ]
  },
  {
   "cell_type": "code",
   "execution_count": 24,
   "metadata": {},
   "outputs": [],
   "source": [
    "#cleaning the keras sessions\n",
    "K.clear_session()"
   ]
  },
  {
   "cell_type": "code",
   "execution_count": 25,
   "metadata": {},
   "outputs": [
    {
     "name": "stderr",
     "output_type": "stream",
     "text": [
      "2021-12-15 17:27:04.161132: I tensorflow/core/platform/cpu_feature_guard.cc:151] This TensorFlow binary is optimized with oneAPI Deep Neural Network Library (oneDNN) to use the following CPU instructions in performance-critical operations:  AVX2 FMA\n",
      "To enable them in other operations, rebuild TensorFlow with the appropriate compiler flags.\n"
     ]
    }
   ],
   "source": [
    "#loading spacy & text vectorization\n",
    "nlp = spacy.load('de_core_news_md')                             #loading the German word embedding from spacy with a vector length of 300\n",
    "Vectorizer = TextVectorization(output_sequence_length=4000)      #keras.TextVectorization with a truncating / padding of 6000 as it seems to be good size for a speech (mode is 5673)"
   ]
  },
  {
   "cell_type": "code",
   "execution_count": 26,
   "metadata": {},
   "outputs": [
    {
     "data": {
      "text/plain": [
       "'das'"
      ]
     },
     "execution_count": 26,
     "metadata": {},
     "output_type": "execute_result"
    }
   ],
   "source": [
    "#fit the vectorizer on the text and extract the corpus vocabulary\n",
    "Vectorizer.adapt(X_series)          #training the Vectorizer on the speeches\n",
    "vocab = Vectorizer.get_vocabulary() #retrieving and tokenizing the unique vocabulary \n",
    "vocab[5]                            #inspecting the first tokens"
   ]
  },
  {
   "cell_type": "code",
   "execution_count": 27,
   "metadata": {},
   "outputs": [
    {
     "name": "stdout",
     "output_type": "stream",
     "text": [
      "The Vectorizer produced 121676 unique tokenized words.\n"
     ]
    }
   ],
   "source": [
    "#how many tokens (single words) are there?\n",
    "num_token= len(vocab) \n",
    "print(f'The Vectorizer produced {num_token} unique tokenized words.')"
   ]
  },
  {
   "cell_type": "markdown",
   "metadata": {},
   "source": [
    "***"
   ]
  },
  {
   "cell_type": "markdown",
   "metadata": {},
   "source": [
    "# Creating the embedding matrix"
   ]
  },
  {
   "cell_type": "code",
   "execution_count": 28,
   "metadata": {},
   "outputs": [
    {
     "data": {
      "text/plain": [
       "300"
      ]
     },
     "execution_count": 28,
     "metadata": {},
     "output_type": "execute_result"
    }
   ],
   "source": [
    "#observing and saving the length of one vector\n",
    "embedding_dim = len(nlp('test').vector)\n",
    "embedding_dim"
   ]
  },
  {
   "cell_type": "code",
   "execution_count": 29,
   "metadata": {},
   "outputs": [
    {
     "data": {
      "text/plain": [
       "(121676, 300)"
      ]
     },
     "execution_count": 29,
     "metadata": {},
     "output_type": "execute_result"
    }
   ],
   "source": [
    "#creating an empty embedding matrix in the size of num_tokens & embedding_dim\n",
    "embedding_matrix = np.zeros((num_token, embedding_dim)) #84170 unique words & 300 length of vector\n",
    "embedding_matrix.shape              "
   ]
  },
  {
   "cell_type": "code",
   "execution_count": 30,
   "metadata": {},
   "outputs": [
    {
     "data": {
      "text/plain": [
       "array([0., 0., 0., 0., 0., 0., 0., 0., 0., 0., 0., 0., 0., 0., 0., 0., 0.,\n",
       "       0., 0., 0., 0., 0., 0., 0., 0., 0., 0., 0., 0., 0., 0., 0., 0., 0.,\n",
       "       0., 0., 0., 0., 0., 0., 0., 0., 0., 0., 0., 0., 0., 0., 0., 0., 0.,\n",
       "       0., 0., 0., 0., 0., 0., 0., 0., 0., 0., 0., 0., 0., 0., 0., 0., 0.,\n",
       "       0., 0., 0., 0., 0., 0., 0., 0., 0., 0., 0., 0., 0., 0., 0., 0., 0.,\n",
       "       0., 0., 0., 0., 0., 0., 0., 0., 0., 0., 0., 0., 0., 0., 0., 0., 0.,\n",
       "       0., 0., 0., 0., 0., 0., 0., 0., 0., 0., 0., 0., 0., 0., 0., 0., 0.,\n",
       "       0., 0., 0., 0., 0., 0., 0., 0., 0., 0., 0., 0., 0., 0., 0., 0., 0.,\n",
       "       0., 0., 0., 0., 0., 0., 0., 0., 0., 0., 0., 0., 0., 0., 0., 0., 0.,\n",
       "       0., 0., 0., 0., 0., 0., 0., 0., 0., 0., 0., 0., 0., 0., 0., 0., 0.,\n",
       "       0., 0., 0., 0., 0., 0., 0., 0., 0., 0., 0., 0., 0., 0., 0., 0., 0.,\n",
       "       0., 0., 0., 0., 0., 0., 0., 0., 0., 0., 0., 0., 0., 0., 0., 0., 0.,\n",
       "       0., 0., 0., 0., 0., 0., 0., 0., 0., 0., 0., 0., 0., 0., 0., 0., 0.,\n",
       "       0., 0., 0., 0., 0., 0., 0., 0., 0., 0., 0., 0., 0., 0., 0., 0., 0.,\n",
       "       0., 0., 0., 0., 0., 0., 0., 0., 0., 0., 0., 0., 0., 0., 0., 0., 0.,\n",
       "       0., 0., 0., 0., 0., 0., 0., 0., 0., 0., 0., 0., 0., 0., 0., 0., 0.,\n",
       "       0., 0., 0., 0., 0., 0., 0., 0., 0., 0., 0., 0., 0., 0., 0., 0., 0.,\n",
       "       0., 0., 0., 0., 0., 0., 0., 0., 0., 0., 0.])"
      ]
     },
     "execution_count": 30,
     "metadata": {},
     "output_type": "execute_result"
    }
   ],
   "source": [
    "#check: the embedding matrix should be a completely empty scaffolding\n",
    "embedding_matrix[1] "
   ]
  },
  {
   "cell_type": "code",
   "execution_count": 31,
   "metadata": {},
   "outputs": [
    {
     "data": {
      "text/plain": [
       "array([ 7.66302347e+00, -3.04783320e+00,  8.43063259e+00,  7.05233276e-01,\n",
       "        7.47413301e+00,  4.21750021e+00,  3.01593328e+00, -1.16249990e+00,\n",
       "       -8.99026680e+00, -4.24296665e+00,  9.13333237e-01,  1.51676655e+00,\n",
       "       -1.36577330e+01, -7.77346659e+00,  2.60878658e+00,  4.69158030e+00,\n",
       "        1.22510004e+00, -2.02659988e+00, -1.90441835e+00, -7.28933334e-01,\n",
       "        3.71933341e+00, -2.72500992e+00,  2.08066627e-01,  4.39003325e+00,\n",
       "       -6.74666703e-01, -5.62376618e-01,  1.19014335e+00, -1.32821321e+00,\n",
       "       -8.22983265e+00, -8.47583294e+00,  4.45953321e+00, -4.58010006e+00,\n",
       "       -1.43885672e+00,  3.03533226e-01,  6.62133360e+00,  8.11399937e+00,\n",
       "        5.13896656e+00, -3.30943322e+00,  7.46803331e+00,  6.16405344e+00,\n",
       "       -1.54566765e-01, -4.67240000e+00,  3.38960004e+00, -1.20480335e+00,\n",
       "        6.56593323e+00,  2.69933319e+00,  3.05713367e+00, -2.64813328e+00,\n",
       "        1.23017664e+01,  1.62923023e-01, -5.75076675e+00,  1.88002670e+00,\n",
       "       -6.25394011e+00,  2.79433322e+00,  3.03501344e+00, -4.45759010e+00,\n",
       "       -2.63962007e+00, -1.97153342e+00, -3.67109990e+00,  6.62499890e-02,\n",
       "        4.93050003e+00,  9.79918897e-01, -8.06733131e-01,  8.25440025e+00,\n",
       "        6.66813326e+00, -3.45706654e+00,  2.34883332e+00, -6.78966701e-01,\n",
       "       -5.07194328e+00,  3.69813323e+00,  1.04511995e+01, -5.20086670e+00,\n",
       "       -1.45265675e+00,  2.71433353e-01, -1.19203341e+00,  7.28289843e-01,\n",
       "        1.57124329e+00,  5.52910042e+00, -1.41126668e+00,  4.85963392e+00,\n",
       "        2.97366691e+00,  7.11922348e-01,  3.38116646e+00,  4.23946714e+00,\n",
       "        6.18899965e+00,  6.14481974e+00,  1.80790007e+00,  2.82333698e-02,\n",
       "       -1.69066668e+00, -2.55993342e+00,  4.50933367e-01,  6.16533339e-01,\n",
       "        1.13643348e+00, -4.20665979e+00, -3.34229302e+00, -2.58098316e+00,\n",
       "        3.41576648e+00,  1.60188007e+00, -7.29240036e+00,  2.25999999e+00,\n",
       "        1.36920011e+00,  4.35946673e-01, -8.11673343e-01, -2.54582673e-01,\n",
       "        9.15600002e-01, -9.77600038e-01, -4.63799953e-01,  5.28410006e+00,\n",
       "        1.42406654e+00,  5.03526628e-01,  8.89263332e-01,  2.64343333e+00,\n",
       "       -9.62722957e-01, -7.49453306e+00, -1.92949998e+00, -2.84283328e+00,\n",
       "       -2.96401668e+00,  4.49696684e+00, -3.54236674e+00, -6.12050009e+00,\n",
       "       -1.47147667e+00, -2.45989990e+00,  7.14523315e-01, -2.69653320e+00,\n",
       "       -6.00043344e+00, -4.04367685e+00,  3.71899986e+00,  4.68112707e+00,\n",
       "        1.13076675e+00, -3.75424314e+00, -5.98749971e+00, -1.46466807e-01,\n",
       "       -3.66596675e+00, -4.02833319e+00, -3.80276680e+00,  5.40120316e+00,\n",
       "       -2.61783361e+00, -1.73440325e+00,  1.09363663e+00,  5.65623331e+00,\n",
       "       -1.13336670e+00, -1.97019339e+00, -6.61943293e+00, -2.17920995e+00,\n",
       "       -1.66202676e+00, -2.22320008e+00, -2.14089990e+00, -1.01669664e+01,\n",
       "        1.23124325e+00,  2.84426689e+00,  5.63267060e-02,  2.18384337e+00,\n",
       "        2.67465329e+00,  5.15078688e+00,  3.52639961e+00, -4.42799997e+00,\n",
       "        3.90096664e+00, -9.52989995e-01, -2.48272681e+00, -2.98326683e+00,\n",
       "       -5.57371664e+00,  2.25236678e+00,  4.38743353e+00, -3.78419995e+00,\n",
       "        1.79173326e+00, -1.31965339e+00,  7.72449970e-01, -5.70720053e+00,\n",
       "       -9.09100056e-01,  1.61656666e+00, -1.92173350e+00,  8.18667784e-02,\n",
       "        2.98300028e-01, -1.07095337e+01,  4.74659967e+00,  2.72356677e+00,\n",
       "        5.57500064e-01, -6.53889990e+00,  8.22356701e+00,  6.00903320e+00,\n",
       "       -6.49760008e+00,  4.39589024e+00, -2.61499667e+00,  4.30466652e-01,\n",
       "       -2.71678662e+00, -3.62433314e+00, -1.59121001e+00, -4.09515667e+00,\n",
       "       -1.37293327e+00,  1.02089989e+00,  7.46399927e+00,  9.51303387e+00,\n",
       "        8.30766678e-01, -1.20190001e+00, -2.17110023e-01,  1.64223337e+00,\n",
       "       -6.60016716e-01,  8.88667107e-02,  8.23610008e-01, -6.30456686e+00,\n",
       "       -6.07019997e+00, -9.22669888e-01,  1.03468666e+01, -4.65489006e+00,\n",
       "        2.08360004e+00, -7.41999149e-02,  2.67756653e+00, -5.00353670e+00,\n",
       "        4.61736679e+00, -3.59629989e+00, -2.90690017e+00, -1.64516675e+00,\n",
       "       -4.37595367e+00,  2.76852632e+00,  1.87220418e+00,  3.63339996e+00,\n",
       "       -7.03486633e+00,  4.91133302e-01, -4.05433321e+00,  6.20146704e+00,\n",
       "       -3.17763019e+00,  2.10439992e+00, -4.15439987e+00, -6.53750992e+00,\n",
       "        1.29829979e+00,  6.43363333e+00,  5.83456659e+00,  6.48000002e+00,\n",
       "        1.48643672e+00,  5.06233311e+00, -5.12019968e+00, -4.51846647e+00,\n",
       "        1.48382998e+00,  2.78100166e-02,  1.82026672e+00,  2.30199978e-01,\n",
       "       -2.23293328e+00, -4.46362352e+00,  2.44949985e+00,  3.71746659e+00,\n",
       "       -7.22163343e+00, -1.57108009e+00,  2.90996671e+00, -1.18666887e-02,\n",
       "        3.84763336e+00, -4.56553316e+00,  4.01769996e-01,  9.34166610e-01,\n",
       "       -3.03932309e+00,  1.12506640e+00, -4.83746082e-01,  1.74756336e+00,\n",
       "       -3.39560986e-01, -7.30133295e+00, -9.11766589e-01,  1.25327671e+00,\n",
       "        1.24836671e+00, -7.06956685e-01,  1.01183331e+00,  2.38040018e+00,\n",
       "        2.00406671e+00,  1.17573321e+00, -1.86255324e+00, -3.20686668e-01,\n",
       "        4.91496658e+00, -2.31096673e+00, -8.49603355e-01, -3.73110008e+00,\n",
       "        3.22953320e+00,  1.74906686e-01,  2.74013329e+00,  2.47066185e-01,\n",
       "        3.30357480e+00,  2.68743324e+00,  1.45469987e+00,  3.62836647e+00,\n",
       "        9.25100029e-01, -8.60616684e+00,  2.21496654e+00,  3.09649968e+00,\n",
       "       -1.72946656e+00, -5.29553366e+00,  6.35266721e-01, -1.95006657e+00,\n",
       "        4.47054672e+00,  4.88186646e+00,  6.03566706e-01, -6.81686735e+00,\n",
       "        1.05201662e+00,  7.49399960e-01,  5.83300054e-01, -6.52990007e+00,\n",
       "       -2.87903309e+00, -4.00499964e+00, -3.75203323e+00,  6.21918631e+00,\n",
       "       -2.95069313e+00, -5.57776642e+00,  2.25840998e+00,  2.27106667e+00])"
      ]
     },
     "execution_count": 31,
     "metadata": {},
     "output_type": "execute_result"
    }
   ],
   "source": [
    "#mapping the empty embedding matrix to the nlp word vector\n",
    "for i, word in enumerate(vocab):\n",
    "    embedding_matrix[i] = nlp(str(word)).vector\n",
    "\n",
    "#check: the embedding matrix should be filled with vectors\n",
    "embedding_matrix[1]"
   ]
  },
  {
   "cell_type": "markdown",
   "metadata": {},
   "source": [
    "***"
   ]
  },
  {
   "cell_type": "markdown",
   "metadata": {},
   "source": [
    "# Preprocessing the speeches (X)"
   ]
  },
  {
   "cell_type": "code",
   "execution_count": 32,
   "metadata": {},
   "outputs": [
    {
     "data": {
      "text/plain": [
       "(4800, 4000)"
      ]
     },
     "execution_count": 32,
     "metadata": {},
     "output_type": "execute_result"
    }
   ],
   "source": [
    "#vectorizing and truncating/padding of all speeches\n",
    "X = Vectorizer(np.array([[word] for word in X_series])).numpy()\n",
    "X.shape #4800 speeches, each speech has 4000 words"
   ]
  },
  {
   "cell_type": "code",
   "execution_count": 33,
   "metadata": {},
   "outputs": [
    {
     "data": {
      "text/plain": [
       "array([ 87, 183,  89, ...,   0,   0,   0])"
      ]
     },
     "execution_count": 33,
     "metadata": {},
     "output_type": "execute_result"
    }
   ],
   "source": [
    "#checking out X\n",
    "X[1]"
   ]
  },
  {
   "cell_type": "markdown",
   "metadata": {},
   "source": [
    "***"
   ]
  },
  {
   "cell_type": "markdown",
   "metadata": {},
   "source": [
    "# Preprocessing the labels (y)"
   ]
  },
  {
   "cell_type": "code",
   "execution_count": 34,
   "metadata": {},
   "outputs": [
    {
     "data": {
      "text/plain": [
       "array([1, 1, 1, ..., 2, 2, 2])"
      ]
     },
     "execution_count": 34,
     "metadata": {},
     "output_type": "execute_result"
    }
   ],
   "source": [
    "#transforming the parties into labels \n",
    "le = preprocessing.LabelEncoder()\n",
    "le.fit(y_series)\n",
    "labels = le.transform(y_series) #the names of the political parties are transformed into numbers in [0,1,2,3,4,5]\n",
    "labels"
   ]
  },
  {
   "cell_type": "code",
   "execution_count": 35,
   "metadata": {},
   "outputs": [
    {
     "data": {
      "text/plain": [
       "(4800, 6)"
      ]
     },
     "execution_count": 35,
     "metadata": {},
     "output_type": "execute_result"
    }
   ],
   "source": [
    "#one_hot_encoding of labels\n",
    "y = utils.to_categorical(labels, num_classes=6)\n",
    "y.shape"
   ]
  },
  {
   "cell_type": "code",
   "execution_count": 36,
   "metadata": {},
   "outputs": [
    {
     "data": {
      "text/plain": [
       "(array([1, 1, 1, 1, 1]),\n",
       " array([[0., 1., 0., 0., 0., 0.],\n",
       "        [0., 1., 0., 0., 0., 0.],\n",
       "        [0., 1., 0., 0., 0., 0.],\n",
       "        [0., 1., 0., 0., 0., 0.],\n",
       "        [0., 1., 0., 0., 0., 0.]], dtype=float32))"
      ]
     },
     "execution_count": 36,
     "metadata": {},
     "output_type": "execute_result"
    }
   ],
   "source": [
    "#testing if the labels & one-hot-encoding of the labels worked\n",
    "labels[:5] , y[:5]  #yes, it worked!"
   ]
  },
  {
   "cell_type": "markdown",
   "metadata": {},
   "source": [
    "***"
   ]
  },
  {
   "cell_type": "markdown",
   "metadata": {},
   "source": [
    "# Building the LSTM model"
   ]
  },
  {
   "cell_type": "markdown",
   "metadata": {},
   "source": [
    "<i>input_dim: This is the size of the vocabulary in the text data. For example, if your data is integer encoded to values between 0-10, then the size of the vocabulary would be 11 words. <br><br>\n",
    "output_dim: This is the size of the vector space in which words will be embedded. It defines the size of the output vectors from this layer for each word. For example, it could be 32 or 100 or even larger. Test different values for your problem. <br><br>\n",
    "input_length: This is the length of input sequences, as you would define for any input layer of a Keras model. For example, if all of your input documents are comprised of 1000 words, this would be 1000.</i>"
   ]
  },
  {
   "cell_type": "code",
   "execution_count": 37,
   "metadata": {},
   "outputs": [
    {
     "name": "stdout",
     "output_type": "stream",
     "text": [
      "Model: \"sequential\"\n",
      "_________________________________________________________________\n",
      " Layer (type)                Output Shape              Param #   \n",
      "=================================================================\n",
      " embedding (Embedding)       (None, 4000, 300)         36502800  \n",
      "                                                                 \n",
      " bidirectional (Bidirectiona  (None, 128)              186880    \n",
      " l)                                                              \n",
      "                                                                 \n",
      " dense (Dense)               (None, 6)                 774       \n",
      "                                                                 \n",
      "=================================================================\n",
      "Total params: 36,690,454\n",
      "Trainable params: 187,654\n",
      "Non-trainable params: 36,502,800\n",
      "_________________________________________________________________\n",
      "None\n"
     ]
    }
   ],
   "source": [
    "model = Sequential()\n",
    "model.add(Embedding(input_dim = num_token, output_dim = embedding_dim, input_length=4000, embeddings_initializer=keras.initializers.Constant(embedding_matrix), trainable=False)) #trainable = False, for this layer not trained - also good against overfitting\n",
    "model.add(Bidirectional(LSTM(64)))                     #first start small, than max up the number\n",
    "model.add(Dense(6, activation='softmax'))                   #softmax activation, last layer should have 6 neurons as there are 6 parties\n",
    "model.compile(optimizer='adam', loss='categorical_crossentropy', metrics=['acc']) #\n",
    "print(model.summary())"
   ]
  },
  {
   "cell_type": "markdown",
   "metadata": {},
   "source": [
    "***"
   ]
  },
  {
   "cell_type": "markdown",
   "metadata": {},
   "source": [
    "# Fitting the LSTM model"
   ]
  },
  {
   "cell_type": "code",
   "execution_count": 38,
   "metadata": {},
   "outputs": [
    {
     "name": "stdout",
     "output_type": "stream",
     "text": [
      "Epoch 1/10\n",
      "15/96 [===>..........................] - ETA: 6:22 - loss: 1.7513 - acc: 0.2293"
     ]
    },
    {
     "ename": "KeyboardInterrupt",
     "evalue": "",
     "output_type": "error",
     "traceback": [
      "\u001b[0;31m---------------------------------------------------------------------------\u001b[0m",
      "\u001b[0;31mKeyboardInterrupt\u001b[0m                         Traceback (most recent call last)",
      "\u001b[0;32m/var/folders/n_/f0kktvdx00s93tvvh3xlcch40000gn/T/ipykernel_11375/2054480017.py\u001b[0m in \u001b[0;36m<module>\u001b[0;34m\u001b[0m\n\u001b[1;32m      1\u001b[0m \u001b[0;31m#fitting the model\u001b[0m\u001b[0;34m\u001b[0m\u001b[0;34m\u001b[0m\u001b[0;34m\u001b[0m\u001b[0m\n\u001b[0;32m----> 2\u001b[0;31m \u001b[0mhistory\u001b[0m \u001b[0;34m=\u001b[0m \u001b[0mmodel\u001b[0m\u001b[0;34m.\u001b[0m\u001b[0mfit\u001b[0m\u001b[0;34m(\u001b[0m\u001b[0mX\u001b[0m\u001b[0;34m,\u001b[0m \u001b[0my\u001b[0m\u001b[0;34m,\u001b[0m \u001b[0mbatch_size\u001b[0m \u001b[0;34m=\u001b[0m \u001b[0;36m50\u001b[0m\u001b[0;34m,\u001b[0m \u001b[0mepochs\u001b[0m \u001b[0;34m=\u001b[0m \u001b[0;36m10\u001b[0m\u001b[0;34m)\u001b[0m\u001b[0;34m\u001b[0m\u001b[0;34m\u001b[0m\u001b[0m\n\u001b[0m",
      "\u001b[0;32m/opt/anaconda3/lib/python3.8/site-packages/keras/utils/traceback_utils.py\u001b[0m in \u001b[0;36merror_handler\u001b[0;34m(*args, **kwargs)\u001b[0m\n\u001b[1;32m     62\u001b[0m     \u001b[0mfiltered_tb\u001b[0m \u001b[0;34m=\u001b[0m \u001b[0;32mNone\u001b[0m\u001b[0;34m\u001b[0m\u001b[0;34m\u001b[0m\u001b[0m\n\u001b[1;32m     63\u001b[0m     \u001b[0;32mtry\u001b[0m\u001b[0;34m:\u001b[0m\u001b[0;34m\u001b[0m\u001b[0;34m\u001b[0m\u001b[0m\n\u001b[0;32m---> 64\u001b[0;31m       \u001b[0;32mreturn\u001b[0m \u001b[0mfn\u001b[0m\u001b[0;34m(\u001b[0m\u001b[0;34m*\u001b[0m\u001b[0margs\u001b[0m\u001b[0;34m,\u001b[0m \u001b[0;34m**\u001b[0m\u001b[0mkwargs\u001b[0m\u001b[0;34m)\u001b[0m\u001b[0;34m\u001b[0m\u001b[0;34m\u001b[0m\u001b[0m\n\u001b[0m\u001b[1;32m     65\u001b[0m     \u001b[0;32mexcept\u001b[0m \u001b[0mException\u001b[0m \u001b[0;32mas\u001b[0m \u001b[0me\u001b[0m\u001b[0;34m:\u001b[0m  \u001b[0;31m# pylint: disable=broad-except\u001b[0m\u001b[0;34m\u001b[0m\u001b[0;34m\u001b[0m\u001b[0m\n\u001b[1;32m     66\u001b[0m       \u001b[0mfiltered_tb\u001b[0m \u001b[0;34m=\u001b[0m \u001b[0m_process_traceback_frames\u001b[0m\u001b[0;34m(\u001b[0m\u001b[0me\u001b[0m\u001b[0;34m.\u001b[0m\u001b[0m__traceback__\u001b[0m\u001b[0;34m)\u001b[0m\u001b[0;34m\u001b[0m\u001b[0;34m\u001b[0m\u001b[0m\n",
      "\u001b[0;32m/opt/anaconda3/lib/python3.8/site-packages/keras/engine/training.py\u001b[0m in \u001b[0;36mfit\u001b[0;34m(self, x, y, batch_size, epochs, verbose, callbacks, validation_split, validation_data, shuffle, class_weight, sample_weight, initial_epoch, steps_per_epoch, validation_steps, validation_batch_size, validation_freq, max_queue_size, workers, use_multiprocessing)\u001b[0m\n\u001b[1;32m   1214\u001b[0m                 _r=1):\n\u001b[1;32m   1215\u001b[0m               \u001b[0mcallbacks\u001b[0m\u001b[0;34m.\u001b[0m\u001b[0mon_train_batch_begin\u001b[0m\u001b[0;34m(\u001b[0m\u001b[0mstep\u001b[0m\u001b[0;34m)\u001b[0m\u001b[0;34m\u001b[0m\u001b[0;34m\u001b[0m\u001b[0m\n\u001b[0;32m-> 1216\u001b[0;31m               \u001b[0mtmp_logs\u001b[0m \u001b[0;34m=\u001b[0m \u001b[0mself\u001b[0m\u001b[0;34m.\u001b[0m\u001b[0mtrain_function\u001b[0m\u001b[0;34m(\u001b[0m\u001b[0miterator\u001b[0m\u001b[0;34m)\u001b[0m\u001b[0;34m\u001b[0m\u001b[0;34m\u001b[0m\u001b[0m\n\u001b[0m\u001b[1;32m   1217\u001b[0m               \u001b[0;32mif\u001b[0m \u001b[0mdata_handler\u001b[0m\u001b[0;34m.\u001b[0m\u001b[0mshould_sync\u001b[0m\u001b[0;34m:\u001b[0m\u001b[0;34m\u001b[0m\u001b[0;34m\u001b[0m\u001b[0m\n\u001b[1;32m   1218\u001b[0m                 \u001b[0mcontext\u001b[0m\u001b[0;34m.\u001b[0m\u001b[0masync_wait\u001b[0m\u001b[0;34m(\u001b[0m\u001b[0;34m)\u001b[0m\u001b[0;34m\u001b[0m\u001b[0;34m\u001b[0m\u001b[0m\n",
      "\u001b[0;32m/opt/anaconda3/lib/python3.8/site-packages/tensorflow/python/util/traceback_utils.py\u001b[0m in \u001b[0;36merror_handler\u001b[0;34m(*args, **kwargs)\u001b[0m\n\u001b[1;32m    148\u001b[0m     \u001b[0mfiltered_tb\u001b[0m \u001b[0;34m=\u001b[0m \u001b[0;32mNone\u001b[0m\u001b[0;34m\u001b[0m\u001b[0;34m\u001b[0m\u001b[0m\n\u001b[1;32m    149\u001b[0m     \u001b[0;32mtry\u001b[0m\u001b[0;34m:\u001b[0m\u001b[0;34m\u001b[0m\u001b[0;34m\u001b[0m\u001b[0m\n\u001b[0;32m--> 150\u001b[0;31m       \u001b[0;32mreturn\u001b[0m \u001b[0mfn\u001b[0m\u001b[0;34m(\u001b[0m\u001b[0;34m*\u001b[0m\u001b[0margs\u001b[0m\u001b[0;34m,\u001b[0m \u001b[0;34m**\u001b[0m\u001b[0mkwargs\u001b[0m\u001b[0;34m)\u001b[0m\u001b[0;34m\u001b[0m\u001b[0;34m\u001b[0m\u001b[0m\n\u001b[0m\u001b[1;32m    151\u001b[0m     \u001b[0;32mexcept\u001b[0m \u001b[0mException\u001b[0m \u001b[0;32mas\u001b[0m \u001b[0me\u001b[0m\u001b[0;34m:\u001b[0m\u001b[0;34m\u001b[0m\u001b[0;34m\u001b[0m\u001b[0m\n\u001b[1;32m    152\u001b[0m       \u001b[0mfiltered_tb\u001b[0m \u001b[0;34m=\u001b[0m \u001b[0m_process_traceback_frames\u001b[0m\u001b[0;34m(\u001b[0m\u001b[0me\u001b[0m\u001b[0;34m.\u001b[0m\u001b[0m__traceback__\u001b[0m\u001b[0;34m)\u001b[0m\u001b[0;34m\u001b[0m\u001b[0;34m\u001b[0m\u001b[0m\n",
      "\u001b[0;32m/opt/anaconda3/lib/python3.8/site-packages/tensorflow/python/eager/def_function.py\u001b[0m in \u001b[0;36m__call__\u001b[0;34m(self, *args, **kwds)\u001b[0m\n\u001b[1;32m    908\u001b[0m \u001b[0;34m\u001b[0m\u001b[0m\n\u001b[1;32m    909\u001b[0m       \u001b[0;32mwith\u001b[0m \u001b[0mOptionalXlaContext\u001b[0m\u001b[0;34m(\u001b[0m\u001b[0mself\u001b[0m\u001b[0;34m.\u001b[0m\u001b[0m_jit_compile\u001b[0m\u001b[0;34m)\u001b[0m\u001b[0;34m:\u001b[0m\u001b[0;34m\u001b[0m\u001b[0;34m\u001b[0m\u001b[0m\n\u001b[0;32m--> 910\u001b[0;31m         \u001b[0mresult\u001b[0m \u001b[0;34m=\u001b[0m \u001b[0mself\u001b[0m\u001b[0;34m.\u001b[0m\u001b[0m_call\u001b[0m\u001b[0;34m(\u001b[0m\u001b[0;34m*\u001b[0m\u001b[0margs\u001b[0m\u001b[0;34m,\u001b[0m \u001b[0;34m**\u001b[0m\u001b[0mkwds\u001b[0m\u001b[0;34m)\u001b[0m\u001b[0;34m\u001b[0m\u001b[0;34m\u001b[0m\u001b[0m\n\u001b[0m\u001b[1;32m    911\u001b[0m \u001b[0;34m\u001b[0m\u001b[0m\n\u001b[1;32m    912\u001b[0m       \u001b[0mnew_tracing_count\u001b[0m \u001b[0;34m=\u001b[0m \u001b[0mself\u001b[0m\u001b[0;34m.\u001b[0m\u001b[0mexperimental_get_tracing_count\u001b[0m\u001b[0;34m(\u001b[0m\u001b[0;34m)\u001b[0m\u001b[0;34m\u001b[0m\u001b[0;34m\u001b[0m\u001b[0m\n",
      "\u001b[0;32m/opt/anaconda3/lib/python3.8/site-packages/tensorflow/python/eager/def_function.py\u001b[0m in \u001b[0;36m_call\u001b[0;34m(self, *args, **kwds)\u001b[0m\n\u001b[1;32m    940\u001b[0m       \u001b[0;31m# In this case we have created variables on the first call, so we run the\u001b[0m\u001b[0;34m\u001b[0m\u001b[0;34m\u001b[0m\u001b[0;34m\u001b[0m\u001b[0m\n\u001b[1;32m    941\u001b[0m       \u001b[0;31m# defunned version which is guaranteed to never create variables.\u001b[0m\u001b[0;34m\u001b[0m\u001b[0;34m\u001b[0m\u001b[0;34m\u001b[0m\u001b[0m\n\u001b[0;32m--> 942\u001b[0;31m       \u001b[0;32mreturn\u001b[0m \u001b[0mself\u001b[0m\u001b[0;34m.\u001b[0m\u001b[0m_stateless_fn\u001b[0m\u001b[0;34m(\u001b[0m\u001b[0;34m*\u001b[0m\u001b[0margs\u001b[0m\u001b[0;34m,\u001b[0m \u001b[0;34m**\u001b[0m\u001b[0mkwds\u001b[0m\u001b[0;34m)\u001b[0m  \u001b[0;31m# pylint: disable=not-callable\u001b[0m\u001b[0;34m\u001b[0m\u001b[0;34m\u001b[0m\u001b[0m\n\u001b[0m\u001b[1;32m    943\u001b[0m     \u001b[0;32melif\u001b[0m \u001b[0mself\u001b[0m\u001b[0;34m.\u001b[0m\u001b[0m_stateful_fn\u001b[0m \u001b[0;32mis\u001b[0m \u001b[0;32mnot\u001b[0m \u001b[0;32mNone\u001b[0m\u001b[0;34m:\u001b[0m\u001b[0;34m\u001b[0m\u001b[0;34m\u001b[0m\u001b[0m\n\u001b[1;32m    944\u001b[0m       \u001b[0;31m# Release the lock early so that multiple threads can perform the call\u001b[0m\u001b[0;34m\u001b[0m\u001b[0;34m\u001b[0m\u001b[0;34m\u001b[0m\u001b[0m\n",
      "\u001b[0;32m/opt/anaconda3/lib/python3.8/site-packages/tensorflow/python/eager/function.py\u001b[0m in \u001b[0;36m__call__\u001b[0;34m(self, *args, **kwargs)\u001b[0m\n\u001b[1;32m   3128\u001b[0m       (graph_function,\n\u001b[1;32m   3129\u001b[0m        filtered_flat_args) = self._maybe_define_function(args, kwargs)\n\u001b[0;32m-> 3130\u001b[0;31m     return graph_function._call_flat(\n\u001b[0m\u001b[1;32m   3131\u001b[0m         filtered_flat_args, captured_inputs=graph_function.captured_inputs)  # pylint: disable=protected-access\n\u001b[1;32m   3132\u001b[0m \u001b[0;34m\u001b[0m\u001b[0m\n",
      "\u001b[0;32m/opt/anaconda3/lib/python3.8/site-packages/tensorflow/python/eager/function.py\u001b[0m in \u001b[0;36m_call_flat\u001b[0;34m(self, args, captured_inputs, cancellation_manager)\u001b[0m\n\u001b[1;32m   1957\u001b[0m         and executing_eagerly):\n\u001b[1;32m   1958\u001b[0m       \u001b[0;31m# No tape is watching; skip to running the function.\u001b[0m\u001b[0;34m\u001b[0m\u001b[0;34m\u001b[0m\u001b[0;34m\u001b[0m\u001b[0m\n\u001b[0;32m-> 1959\u001b[0;31m       return self._build_call_outputs(self._inference_function.call(\n\u001b[0m\u001b[1;32m   1960\u001b[0m           ctx, args, cancellation_manager=cancellation_manager))\n\u001b[1;32m   1961\u001b[0m     forward_backward = self._select_forward_and_backward_functions(\n",
      "\u001b[0;32m/opt/anaconda3/lib/python3.8/site-packages/tensorflow/python/eager/function.py\u001b[0m in \u001b[0;36mcall\u001b[0;34m(self, ctx, args, cancellation_manager)\u001b[0m\n\u001b[1;32m    596\u001b[0m       \u001b[0;32mwith\u001b[0m \u001b[0m_InterpolateFunctionError\u001b[0m\u001b[0;34m(\u001b[0m\u001b[0mself\u001b[0m\u001b[0;34m)\u001b[0m\u001b[0;34m:\u001b[0m\u001b[0;34m\u001b[0m\u001b[0;34m\u001b[0m\u001b[0m\n\u001b[1;32m    597\u001b[0m         \u001b[0;32mif\u001b[0m \u001b[0mcancellation_manager\u001b[0m \u001b[0;32mis\u001b[0m \u001b[0;32mNone\u001b[0m\u001b[0;34m:\u001b[0m\u001b[0;34m\u001b[0m\u001b[0;34m\u001b[0m\u001b[0m\n\u001b[0;32m--> 598\u001b[0;31m           outputs = execute.execute(\n\u001b[0m\u001b[1;32m    599\u001b[0m               \u001b[0mstr\u001b[0m\u001b[0;34m(\u001b[0m\u001b[0mself\u001b[0m\u001b[0;34m.\u001b[0m\u001b[0msignature\u001b[0m\u001b[0;34m.\u001b[0m\u001b[0mname\u001b[0m\u001b[0;34m)\u001b[0m\u001b[0;34m,\u001b[0m\u001b[0;34m\u001b[0m\u001b[0;34m\u001b[0m\u001b[0m\n\u001b[1;32m    600\u001b[0m               \u001b[0mnum_outputs\u001b[0m\u001b[0;34m=\u001b[0m\u001b[0mself\u001b[0m\u001b[0;34m.\u001b[0m\u001b[0m_num_outputs\u001b[0m\u001b[0;34m,\u001b[0m\u001b[0;34m\u001b[0m\u001b[0;34m\u001b[0m\u001b[0m\n",
      "\u001b[0;32m/opt/anaconda3/lib/python3.8/site-packages/tensorflow/python/eager/execute.py\u001b[0m in \u001b[0;36mquick_execute\u001b[0;34m(op_name, num_outputs, inputs, attrs, ctx, name)\u001b[0m\n\u001b[1;32m     56\u001b[0m   \u001b[0;32mtry\u001b[0m\u001b[0;34m:\u001b[0m\u001b[0;34m\u001b[0m\u001b[0;34m\u001b[0m\u001b[0m\n\u001b[1;32m     57\u001b[0m     \u001b[0mctx\u001b[0m\u001b[0;34m.\u001b[0m\u001b[0mensure_initialized\u001b[0m\u001b[0;34m(\u001b[0m\u001b[0;34m)\u001b[0m\u001b[0;34m\u001b[0m\u001b[0;34m\u001b[0m\u001b[0m\n\u001b[0;32m---> 58\u001b[0;31m     tensors = pywrap_tfe.TFE_Py_Execute(ctx._handle, device_name, op_name,\n\u001b[0m\u001b[1;32m     59\u001b[0m                                         inputs, attrs, num_outputs)\n\u001b[1;32m     60\u001b[0m   \u001b[0;32mexcept\u001b[0m \u001b[0mcore\u001b[0m\u001b[0;34m.\u001b[0m\u001b[0m_NotOkStatusException\u001b[0m \u001b[0;32mas\u001b[0m \u001b[0me\u001b[0m\u001b[0;34m:\u001b[0m\u001b[0;34m\u001b[0m\u001b[0;34m\u001b[0m\u001b[0m\n",
      "\u001b[0;31mKeyboardInterrupt\u001b[0m: "
     ]
    }
   ],
   "source": [
    "#fitting the model\n",
    "history = model.fit(X, y, batch_size = 50, epochs = 10)"
   ]
  },
  {
   "cell_type": "markdown",
   "metadata": {},
   "source": [
    "***"
   ]
  },
  {
   "cell_type": "markdown",
   "metadata": {},
   "source": [
    "# Classifying new text"
   ]
  },
  {
   "cell_type": "code",
   "execution_count": null,
   "metadata": {},
   "outputs": [],
   "source": [
    "#inserting a new text \n",
    "speech_new = ['test test eins zwei drei']"
   ]
  },
  {
   "cell_type": "code",
   "execution_count": null,
   "metadata": {},
   "outputs": [],
   "source": [
    "#cleaning, vectorizing and truncating/padding of the new text \n",
    "def clean_padd_vector_speech_new(speech_new):\n",
    "    '''\n",
    "    Function that 1) cleans, 2) padds or truncats and, 3) vectorizes an unseen speech of a German political partie \n",
    "    Argument(s): Variable that contains a list of an unseen speech\n",
    "    Return: Cleaned, padded/truncated and vectorized speech as X \n",
    "    '''\n",
    "    speech_new_series = pd.Series(speech_new) #creates a series out of the inserted speech\n",
    "    speech_new = clean_speech(speech_new_series) #uses the clean_speech function to apply RegEx cleaning to the inserted speech\n",
    "    X = Vectorizer(np.array([[word] for word in speech_new])).numpy() #vectorizes and padds/truncates the new speech\n",
    "    return X"
   ]
  },
  {
   "cell_type": "code",
   "execution_count": null,
   "metadata": {},
   "outputs": [
    {
     "data": {
      "text/plain": [
       "array([ 53, 250,  87, ...,   0,   0,   0])"
      ]
     },
     "execution_count": 41,
     "metadata": {},
     "output_type": "execute_result"
    }
   ],
   "source": [
    "#inspecting X \n",
    "clean_padd_vector_speech_new(speech_new)\n",
    "X[0]"
   ]
  },
  {
   "cell_type": "code",
   "execution_count": null,
   "metadata": {},
   "outputs": [
    {
     "ename": "KeyboardInterrupt",
     "evalue": "",
     "output_type": "error",
     "traceback": [
      "\u001b[0;31m---------------------------------------------------------------------------\u001b[0m",
      "\u001b[0;31mKeyboardInterrupt\u001b[0m                         Traceback (most recent call last)",
      "\u001b[0;32m/var/folders/n_/f0kktvdx00s93tvvh3xlcch40000gn/T/ipykernel_11368/4233768212.py\u001b[0m in \u001b[0;36m<module>\u001b[0;34m\u001b[0m\n\u001b[1;32m      1\u001b[0m \u001b[0mypred\u001b[0m \u001b[0;34m=\u001b[0m \u001b[0;34m[\u001b[0m\u001b[0;34m]\u001b[0m\u001b[0;34m\u001b[0m\u001b[0;34m\u001b[0m\u001b[0m\n\u001b[0;32m----> 2\u001b[0;31m \u001b[0mypred\u001b[0m\u001b[0;34m.\u001b[0m\u001b[0mappend\u001b[0m\u001b[0;34m(\u001b[0m\u001b[0mmodel\u001b[0m\u001b[0;34m.\u001b[0m\u001b[0mpredict\u001b[0m\u001b[0;34m(\u001b[0m\u001b[0mX\u001b[0m\u001b[0;34m)\u001b[0m\u001b[0;34m)\u001b[0m\u001b[0;34m\u001b[0m\u001b[0;34m\u001b[0m\u001b[0m\n\u001b[0m",
      "\u001b[0;32m/opt/anaconda3/lib/python3.8/site-packages/keras/utils/traceback_utils.py\u001b[0m in \u001b[0;36merror_handler\u001b[0;34m(*args, **kwargs)\u001b[0m\n\u001b[1;32m     62\u001b[0m     \u001b[0mfiltered_tb\u001b[0m \u001b[0;34m=\u001b[0m \u001b[0;32mNone\u001b[0m\u001b[0;34m\u001b[0m\u001b[0;34m\u001b[0m\u001b[0m\n\u001b[1;32m     63\u001b[0m     \u001b[0;32mtry\u001b[0m\u001b[0;34m:\u001b[0m\u001b[0;34m\u001b[0m\u001b[0;34m\u001b[0m\u001b[0m\n\u001b[0;32m---> 64\u001b[0;31m       \u001b[0;32mreturn\u001b[0m \u001b[0mfn\u001b[0m\u001b[0;34m(\u001b[0m\u001b[0;34m*\u001b[0m\u001b[0margs\u001b[0m\u001b[0;34m,\u001b[0m \u001b[0;34m**\u001b[0m\u001b[0mkwargs\u001b[0m\u001b[0;34m)\u001b[0m\u001b[0;34m\u001b[0m\u001b[0;34m\u001b[0m\u001b[0m\n\u001b[0m\u001b[1;32m     65\u001b[0m     \u001b[0;32mexcept\u001b[0m \u001b[0mException\u001b[0m \u001b[0;32mas\u001b[0m \u001b[0me\u001b[0m\u001b[0;34m:\u001b[0m  \u001b[0;31m# pylint: disable=broad-except\u001b[0m\u001b[0;34m\u001b[0m\u001b[0;34m\u001b[0m\u001b[0m\n\u001b[1;32m     66\u001b[0m       \u001b[0mfiltered_tb\u001b[0m \u001b[0;34m=\u001b[0m \u001b[0m_process_traceback_frames\u001b[0m\u001b[0;34m(\u001b[0m\u001b[0me\u001b[0m\u001b[0;34m.\u001b[0m\u001b[0m__traceback__\u001b[0m\u001b[0;34m)\u001b[0m\u001b[0;34m\u001b[0m\u001b[0;34m\u001b[0m\u001b[0m\n",
      "\u001b[0;32m/opt/anaconda3/lib/python3.8/site-packages/keras/engine/training.py\u001b[0m in \u001b[0;36mpredict\u001b[0;34m(self, x, batch_size, verbose, steps, callbacks, max_queue_size, workers, use_multiprocessing)\u001b[0m\n\u001b[1;32m   1787\u001b[0m           \u001b[0;32mfor\u001b[0m \u001b[0mstep\u001b[0m \u001b[0;32min\u001b[0m \u001b[0mdata_handler\u001b[0m\u001b[0;34m.\u001b[0m\u001b[0msteps\u001b[0m\u001b[0;34m(\u001b[0m\u001b[0;34m)\u001b[0m\u001b[0;34m:\u001b[0m\u001b[0;34m\u001b[0m\u001b[0;34m\u001b[0m\u001b[0m\n\u001b[1;32m   1788\u001b[0m             \u001b[0mcallbacks\u001b[0m\u001b[0;34m.\u001b[0m\u001b[0mon_predict_batch_begin\u001b[0m\u001b[0;34m(\u001b[0m\u001b[0mstep\u001b[0m\u001b[0;34m)\u001b[0m\u001b[0;34m\u001b[0m\u001b[0;34m\u001b[0m\u001b[0m\n\u001b[0;32m-> 1789\u001b[0;31m             \u001b[0mtmp_batch_outputs\u001b[0m \u001b[0;34m=\u001b[0m \u001b[0mself\u001b[0m\u001b[0;34m.\u001b[0m\u001b[0mpredict_function\u001b[0m\u001b[0;34m(\u001b[0m\u001b[0miterator\u001b[0m\u001b[0;34m)\u001b[0m\u001b[0;34m\u001b[0m\u001b[0;34m\u001b[0m\u001b[0m\n\u001b[0m\u001b[1;32m   1790\u001b[0m             \u001b[0;32mif\u001b[0m \u001b[0mdata_handler\u001b[0m\u001b[0;34m.\u001b[0m\u001b[0mshould_sync\u001b[0m\u001b[0;34m:\u001b[0m\u001b[0;34m\u001b[0m\u001b[0;34m\u001b[0m\u001b[0m\n\u001b[1;32m   1791\u001b[0m               \u001b[0mcontext\u001b[0m\u001b[0;34m.\u001b[0m\u001b[0masync_wait\u001b[0m\u001b[0;34m(\u001b[0m\u001b[0;34m)\u001b[0m\u001b[0;34m\u001b[0m\u001b[0;34m\u001b[0m\u001b[0m\n",
      "\u001b[0;32m/opt/anaconda3/lib/python3.8/site-packages/tensorflow/python/util/traceback_utils.py\u001b[0m in \u001b[0;36merror_handler\u001b[0;34m(*args, **kwargs)\u001b[0m\n\u001b[1;32m    148\u001b[0m     \u001b[0mfiltered_tb\u001b[0m \u001b[0;34m=\u001b[0m \u001b[0;32mNone\u001b[0m\u001b[0;34m\u001b[0m\u001b[0;34m\u001b[0m\u001b[0m\n\u001b[1;32m    149\u001b[0m     \u001b[0;32mtry\u001b[0m\u001b[0;34m:\u001b[0m\u001b[0;34m\u001b[0m\u001b[0;34m\u001b[0m\u001b[0m\n\u001b[0;32m--> 150\u001b[0;31m       \u001b[0;32mreturn\u001b[0m \u001b[0mfn\u001b[0m\u001b[0;34m(\u001b[0m\u001b[0;34m*\u001b[0m\u001b[0margs\u001b[0m\u001b[0;34m,\u001b[0m \u001b[0;34m**\u001b[0m\u001b[0mkwargs\u001b[0m\u001b[0;34m)\u001b[0m\u001b[0;34m\u001b[0m\u001b[0;34m\u001b[0m\u001b[0m\n\u001b[0m\u001b[1;32m    151\u001b[0m     \u001b[0;32mexcept\u001b[0m \u001b[0mException\u001b[0m \u001b[0;32mas\u001b[0m \u001b[0me\u001b[0m\u001b[0;34m:\u001b[0m\u001b[0;34m\u001b[0m\u001b[0;34m\u001b[0m\u001b[0m\n\u001b[1;32m    152\u001b[0m       \u001b[0mfiltered_tb\u001b[0m \u001b[0;34m=\u001b[0m \u001b[0m_process_traceback_frames\u001b[0m\u001b[0;34m(\u001b[0m\u001b[0me\u001b[0m\u001b[0;34m.\u001b[0m\u001b[0m__traceback__\u001b[0m\u001b[0;34m)\u001b[0m\u001b[0;34m\u001b[0m\u001b[0;34m\u001b[0m\u001b[0m\n",
      "\u001b[0;32m/opt/anaconda3/lib/python3.8/site-packages/tensorflow/python/eager/def_function.py\u001b[0m in \u001b[0;36m__call__\u001b[0;34m(self, *args, **kwds)\u001b[0m\n\u001b[1;32m    908\u001b[0m \u001b[0;34m\u001b[0m\u001b[0m\n\u001b[1;32m    909\u001b[0m       \u001b[0;32mwith\u001b[0m \u001b[0mOptionalXlaContext\u001b[0m\u001b[0;34m(\u001b[0m\u001b[0mself\u001b[0m\u001b[0;34m.\u001b[0m\u001b[0m_jit_compile\u001b[0m\u001b[0;34m)\u001b[0m\u001b[0;34m:\u001b[0m\u001b[0;34m\u001b[0m\u001b[0;34m\u001b[0m\u001b[0m\n\u001b[0;32m--> 910\u001b[0;31m         \u001b[0mresult\u001b[0m \u001b[0;34m=\u001b[0m \u001b[0mself\u001b[0m\u001b[0;34m.\u001b[0m\u001b[0m_call\u001b[0m\u001b[0;34m(\u001b[0m\u001b[0;34m*\u001b[0m\u001b[0margs\u001b[0m\u001b[0;34m,\u001b[0m \u001b[0;34m**\u001b[0m\u001b[0mkwds\u001b[0m\u001b[0;34m)\u001b[0m\u001b[0;34m\u001b[0m\u001b[0;34m\u001b[0m\u001b[0m\n\u001b[0m\u001b[1;32m    911\u001b[0m \u001b[0;34m\u001b[0m\u001b[0m\n\u001b[1;32m    912\u001b[0m       \u001b[0mnew_tracing_count\u001b[0m \u001b[0;34m=\u001b[0m \u001b[0mself\u001b[0m\u001b[0;34m.\u001b[0m\u001b[0mexperimental_get_tracing_count\u001b[0m\u001b[0;34m(\u001b[0m\u001b[0;34m)\u001b[0m\u001b[0;34m\u001b[0m\u001b[0;34m\u001b[0m\u001b[0m\n",
      "\u001b[0;32m/opt/anaconda3/lib/python3.8/site-packages/tensorflow/python/eager/def_function.py\u001b[0m in \u001b[0;36m_call\u001b[0;34m(self, *args, **kwds)\u001b[0m\n\u001b[1;32m    947\u001b[0m       \u001b[0;31m# In this case we have not created variables on the first call. So we can\u001b[0m\u001b[0;34m\u001b[0m\u001b[0;34m\u001b[0m\u001b[0;34m\u001b[0m\u001b[0m\n\u001b[1;32m    948\u001b[0m       \u001b[0;31m# run the first trace but we should fail if variables are created.\u001b[0m\u001b[0;34m\u001b[0m\u001b[0;34m\u001b[0m\u001b[0;34m\u001b[0m\u001b[0m\n\u001b[0;32m--> 949\u001b[0;31m       \u001b[0mresults\u001b[0m \u001b[0;34m=\u001b[0m \u001b[0mself\u001b[0m\u001b[0;34m.\u001b[0m\u001b[0m_stateful_fn\u001b[0m\u001b[0;34m(\u001b[0m\u001b[0;34m*\u001b[0m\u001b[0margs\u001b[0m\u001b[0;34m,\u001b[0m \u001b[0;34m**\u001b[0m\u001b[0mkwds\u001b[0m\u001b[0;34m)\u001b[0m\u001b[0;34m\u001b[0m\u001b[0;34m\u001b[0m\u001b[0m\n\u001b[0m\u001b[1;32m    950\u001b[0m       \u001b[0;32mif\u001b[0m \u001b[0mself\u001b[0m\u001b[0;34m.\u001b[0m\u001b[0m_created_variables\u001b[0m \u001b[0;32mand\u001b[0m \u001b[0;32mnot\u001b[0m \u001b[0mALLOW_DYNAMIC_VARIABLE_CREATION\u001b[0m\u001b[0;34m:\u001b[0m\u001b[0;34m\u001b[0m\u001b[0;34m\u001b[0m\u001b[0m\n\u001b[1;32m    951\u001b[0m         raise ValueError(\"Creating variables on a non-first call to a function\"\n",
      "\u001b[0;32m/opt/anaconda3/lib/python3.8/site-packages/tensorflow/python/eager/function.py\u001b[0m in \u001b[0;36m__call__\u001b[0;34m(self, *args, **kwargs)\u001b[0m\n\u001b[1;32m   3128\u001b[0m       (graph_function,\n\u001b[1;32m   3129\u001b[0m        filtered_flat_args) = self._maybe_define_function(args, kwargs)\n\u001b[0;32m-> 3130\u001b[0;31m     return graph_function._call_flat(\n\u001b[0m\u001b[1;32m   3131\u001b[0m         filtered_flat_args, captured_inputs=graph_function.captured_inputs)  # pylint: disable=protected-access\n\u001b[1;32m   3132\u001b[0m \u001b[0;34m\u001b[0m\u001b[0m\n",
      "\u001b[0;32m/opt/anaconda3/lib/python3.8/site-packages/tensorflow/python/eager/function.py\u001b[0m in \u001b[0;36m_call_flat\u001b[0;34m(self, args, captured_inputs, cancellation_manager)\u001b[0m\n\u001b[1;32m   1957\u001b[0m         and executing_eagerly):\n\u001b[1;32m   1958\u001b[0m       \u001b[0;31m# No tape is watching; skip to running the function.\u001b[0m\u001b[0;34m\u001b[0m\u001b[0;34m\u001b[0m\u001b[0;34m\u001b[0m\u001b[0m\n\u001b[0;32m-> 1959\u001b[0;31m       return self._build_call_outputs(self._inference_function.call(\n\u001b[0m\u001b[1;32m   1960\u001b[0m           ctx, args, cancellation_manager=cancellation_manager))\n\u001b[1;32m   1961\u001b[0m     forward_backward = self._select_forward_and_backward_functions(\n",
      "\u001b[0;32m/opt/anaconda3/lib/python3.8/site-packages/tensorflow/python/eager/function.py\u001b[0m in \u001b[0;36mcall\u001b[0;34m(self, ctx, args, cancellation_manager)\u001b[0m\n\u001b[1;32m    596\u001b[0m       \u001b[0;32mwith\u001b[0m \u001b[0m_InterpolateFunctionError\u001b[0m\u001b[0;34m(\u001b[0m\u001b[0mself\u001b[0m\u001b[0;34m)\u001b[0m\u001b[0;34m:\u001b[0m\u001b[0;34m\u001b[0m\u001b[0;34m\u001b[0m\u001b[0m\n\u001b[1;32m    597\u001b[0m         \u001b[0;32mif\u001b[0m \u001b[0mcancellation_manager\u001b[0m \u001b[0;32mis\u001b[0m \u001b[0;32mNone\u001b[0m\u001b[0;34m:\u001b[0m\u001b[0;34m\u001b[0m\u001b[0;34m\u001b[0m\u001b[0m\n\u001b[0;32m--> 598\u001b[0;31m           outputs = execute.execute(\n\u001b[0m\u001b[1;32m    599\u001b[0m               \u001b[0mstr\u001b[0m\u001b[0;34m(\u001b[0m\u001b[0mself\u001b[0m\u001b[0;34m.\u001b[0m\u001b[0msignature\u001b[0m\u001b[0;34m.\u001b[0m\u001b[0mname\u001b[0m\u001b[0;34m)\u001b[0m\u001b[0;34m,\u001b[0m\u001b[0;34m\u001b[0m\u001b[0;34m\u001b[0m\u001b[0m\n\u001b[1;32m    600\u001b[0m               \u001b[0mnum_outputs\u001b[0m\u001b[0;34m=\u001b[0m\u001b[0mself\u001b[0m\u001b[0;34m.\u001b[0m\u001b[0m_num_outputs\u001b[0m\u001b[0;34m,\u001b[0m\u001b[0;34m\u001b[0m\u001b[0;34m\u001b[0m\u001b[0m\n",
      "\u001b[0;32m/opt/anaconda3/lib/python3.8/site-packages/tensorflow/python/eager/execute.py\u001b[0m in \u001b[0;36mquick_execute\u001b[0;34m(op_name, num_outputs, inputs, attrs, ctx, name)\u001b[0m\n\u001b[1;32m     56\u001b[0m   \u001b[0;32mtry\u001b[0m\u001b[0;34m:\u001b[0m\u001b[0;34m\u001b[0m\u001b[0;34m\u001b[0m\u001b[0m\n\u001b[1;32m     57\u001b[0m     \u001b[0mctx\u001b[0m\u001b[0;34m.\u001b[0m\u001b[0mensure_initialized\u001b[0m\u001b[0;34m(\u001b[0m\u001b[0;34m)\u001b[0m\u001b[0;34m\u001b[0m\u001b[0;34m\u001b[0m\u001b[0m\n\u001b[0;32m---> 58\u001b[0;31m     tensors = pywrap_tfe.TFE_Py_Execute(ctx._handle, device_name, op_name,\n\u001b[0m\u001b[1;32m     59\u001b[0m                                         inputs, attrs, num_outputs)\n\u001b[1;32m     60\u001b[0m   \u001b[0;32mexcept\u001b[0m \u001b[0mcore\u001b[0m\u001b[0;34m.\u001b[0m\u001b[0m_NotOkStatusException\u001b[0m \u001b[0;32mas\u001b[0m \u001b[0me\u001b[0m\u001b[0;34m:\u001b[0m\u001b[0;34m\u001b[0m\u001b[0;34m\u001b[0m\u001b[0m\n",
      "\u001b[0;31mKeyboardInterrupt\u001b[0m: "
     ]
    }
   ],
   "source": [
    "#creating ypred\n",
    "ypred = []\n",
    "ypred.append(model.predict(X))"
   ]
  },
  {
   "cell_type": "code",
   "execution_count": null,
   "metadata": {},
   "outputs": [
    {
     "ename": "IndexError",
     "evalue": "list index out of range",
     "output_type": "error",
     "traceback": [
      "\u001b[0;31m---------------------------------------------------------------------------\u001b[0m",
      "\u001b[0;31mIndexError\u001b[0m                                Traceback (most recent call last)",
      "\u001b[0;32m/var/folders/n_/f0kktvdx00s93tvvh3xlcch40000gn/T/ipykernel_11368/2685278373.py\u001b[0m in \u001b[0;36m<module>\u001b[0;34m\u001b[0m\n\u001b[1;32m      1\u001b[0m \u001b[0mypred\u001b[0m\u001b[0;34m\u001b[0m\u001b[0;34m\u001b[0m\u001b[0m\n\u001b[0;32m----> 2\u001b[0;31m \u001b[0mprint\u001b[0m\u001b[0;34m(\u001b[0m\u001b[0;34mf'The LSTM Model classified the inserted speech as follows: CDU/CSU: {round(ypred[0],2)}, SPD: {round(ypred[1],2)}, FDP: {round(ypred[2],2)}, AfD: {round(ypred[3],2)}, Grüne: {round(ypred[4],2)}, DIE LINKE.: {round(ypred[5],2)}'\u001b[0m\u001b[0;34m)\u001b[0m\u001b[0;34m\u001b[0m\u001b[0;34m\u001b[0m\u001b[0m\n\u001b[0m",
      "\u001b[0;31mIndexError\u001b[0m: list index out of range"
     ]
    }
   ],
   "source": [
    "#looking at ypred \n",
    "print(f'The LSTM Model classified the unseen speech as follows: CDU/CSU: {round(ypred[0],2)}, SPD: {round(ypred[1],2)}, FDP: {round(ypred[2],2)}, AfD: {round(ypred[3],2)}, Grüne: {round(ypred[4],2)}, DIE LINKE.: {round(ypred[5],2)}')"
   ]
  }
 ],
 "metadata": {
  "interpreter": {
   "hash": "40d3a090f54c6569ab1632332b64b2c03c39dcf918b08424e98f38b5ae0af88f"
  },
  "kernelspec": {
   "display_name": "Python 3.8.8 64-bit ('base': conda)",
   "language": "python",
   "name": "python3"
  },
  "language_info": {
   "codemirror_mode": {
    "name": "ipython",
    "version": 3
   },
   "file_extension": ".py",
   "mimetype": "text/x-python",
   "name": "python",
   "nbconvert_exporter": "python",
   "pygments_lexer": "ipython3",
   "version": "3.8.8"
  },
  "orig_nbformat": 4
 },
 "nbformat": 4,
 "nbformat_minor": 2
}
