{
 "cells": [
  {
   "cell_type": "markdown",
   "metadata": {},
   "source": [
    "#sequence , letzter layer, softmax, 6 neuronen"
   ]
  },
  {
   "cell_type": "markdown",
   "metadata": {},
   "source": [
    "# Importing libaries"
   ]
  },
  {
   "cell_type": "code",
   "execution_count": 45,
   "metadata": {},
   "outputs": [],
   "source": [
    "#import relevant libraries\n",
    "import pandas as pd\n",
    "import numpy as np\n",
    "import csv"
   ]
  },
  {
   "cell_type": "markdown",
   "metadata": {},
   "source": [
    "***"
   ]
  },
  {
   "cell_type": "markdown",
   "metadata": {},
   "source": [
    "# Importing and preparing the data"
   ]
  },
  {
   "cell_type": "code",
   "execution_count": 46,
   "metadata": {},
   "outputs": [
    {
     "data": {
      "text/plain": [
       "Index(['id', 'session', 'electoralTerm', 'firstName', 'lastName',\n",
       "       'politicianId', 'speechContent', 'factionId', 'documentUrl',\n",
       "       'positionShort', 'positionLong', 'date'],\n",
       "      dtype='object')"
      ]
     },
     "execution_count": 46,
     "metadata": {},
     "output_type": "execute_result"
    }
   ],
   "source": [
    "#import speeches for 2021 as sample\n",
    "speeches_df = pd.read_csv('data/speeches_new.csv')\n",
    "speeches_df.columns"
   ]
  },
  {
   "cell_type": "code",
   "execution_count": 47,
   "metadata": {},
   "outputs": [],
   "source": [
    "#import faction id \n",
    "faction_df = pd.read_csv('data/factions.csv')\n",
    "faction_df = faction_df.rename(columns={'id':'factionId'})"
   ]
  },
  {
   "cell_type": "code",
   "execution_count": 48,
   "metadata": {},
   "outputs": [],
   "source": [
    "#merging the two dataframes\n",
    "data = pd.merge(left = speeches_df, right = faction_df, on = 'factionId', how = 'inner')"
   ]
  },
  {
   "cell_type": "code",
   "execution_count": 49,
   "metadata": {},
   "outputs": [],
   "source": [
    "#dropping all columns that are not needed\n",
    "data = data[['speechContent', 'abbreviation']]\n",
    "data.rename(columns={'abbreviation':'partie'}, inplace=True)"
   ]
  },
  {
   "cell_type": "code",
   "execution_count": 50,
   "metadata": {},
   "outputs": [
    {
     "data": {
      "text/plain": [
       "not found     4195\n",
       "CDU/CSU       1086\n",
       "SPD            704\n",
       "FDP            558\n",
       "AfD            545\n",
       "Grüne          544\n",
       "DIE LINKE.     486\n",
       "Name: partie, dtype: int64"
      ]
     },
     "execution_count": 50,
     "metadata": {},
     "output_type": "execute_result"
    }
   ],
   "source": [
    "#expecting the value count of all columns \n",
    "data.partie.value_counts()"
   ]
  },
  {
   "cell_type": "code",
   "execution_count": 51,
   "metadata": {},
   "outputs": [
    {
     "data": {
      "text/html": [
       "<div>\n",
       "<style scoped>\n",
       "    .dataframe tbody tr th:only-of-type {\n",
       "        vertical-align: middle;\n",
       "    }\n",
       "\n",
       "    .dataframe tbody tr th {\n",
       "        vertical-align: top;\n",
       "    }\n",
       "\n",
       "    .dataframe thead th {\n",
       "        text-align: right;\n",
       "    }\n",
       "</style>\n",
       "<table border=\"1\" class=\"dataframe\">\n",
       "  <thead>\n",
       "    <tr style=\"text-align: right;\">\n",
       "      <th></th>\n",
       "      <th>speechContent</th>\n",
       "      <th>partie</th>\n",
       "    </tr>\n",
       "  </thead>\n",
       "  <tbody>\n",
       "    <tr>\n",
       "      <th>0</th>\n",
       "      <td>\\n\\nHerr Präsident! Meine Damen! Meine Herren!...</td>\n",
       "      <td>CDU/CSU</td>\n",
       "    </tr>\n",
       "    <tr>\n",
       "      <th>1</th>\n",
       "      <td>\\n\\nHerr Präsident! Liebe Kolleginnen und Koll...</td>\n",
       "      <td>CDU/CSU</td>\n",
       "    </tr>\n",
       "    <tr>\n",
       "      <th>2</th>\n",
       "      <td>\\n\\nHerr Präsident! Liebe Kolleginnen und Koll...</td>\n",
       "      <td>CDU/CSU</td>\n",
       "    </tr>\n",
       "    <tr>\n",
       "      <th>3</th>\n",
       "      <td>\\n\\nSehr geehrter Herr Präsident! Sehr geehrte...</td>\n",
       "      <td>CDU/CSU</td>\n",
       "    </tr>\n",
       "    <tr>\n",
       "      <th>4</th>\n",
       "      <td>\\n\\nFrau Präsidentin! Liebe Kolleginnen und Ko...</td>\n",
       "      <td>CDU/CSU</td>\n",
       "    </tr>\n",
       "    <tr>\n",
       "      <th>...</th>\n",
       "      <td>...</td>\n",
       "      <td>...</td>\n",
       "    </tr>\n",
       "    <tr>\n",
       "      <th>8113</th>\n",
       "      <td>\\n\\nVielen Dank. – Frau Präsidentin! Liebe Kol...</td>\n",
       "      <td>Grüne</td>\n",
       "    </tr>\n",
       "    <tr>\n",
       "      <th>8114</th>\n",
       "      <td>\\n\\nSehr geehrte Frau Präsidentin! Sehr geehrt...</td>\n",
       "      <td>Grüne</td>\n",
       "    </tr>\n",
       "    <tr>\n",
       "      <th>8115</th>\n",
       "      <td>\\n\\nFrau Präsidentin! Meine Damen und Herren! ...</td>\n",
       "      <td>Grüne</td>\n",
       "    </tr>\n",
       "    <tr>\n",
       "      <th>8116</th>\n",
       "      <td>\\n\\nUnd auf der EU-Ebene wird zurzeit der Digi...</td>\n",
       "      <td>Grüne</td>\n",
       "    </tr>\n",
       "    <tr>\n",
       "      <th>8117</th>\n",
       "      <td>\\n\\nWir brauchen eine gemeinsame Öffentlichkei...</td>\n",
       "      <td>Grüne</td>\n",
       "    </tr>\n",
       "  </tbody>\n",
       "</table>\n",
       "<p>3923 rows × 2 columns</p>\n",
       "</div>"
      ],
      "text/plain": [
       "                                          speechContent   partie\n",
       "0     \\n\\nHerr Präsident! Meine Damen! Meine Herren!...  CDU/CSU\n",
       "1     \\n\\nHerr Präsident! Liebe Kolleginnen und Koll...  CDU/CSU\n",
       "2     \\n\\nHerr Präsident! Liebe Kolleginnen und Koll...  CDU/CSU\n",
       "3     \\n\\nSehr geehrter Herr Präsident! Sehr geehrte...  CDU/CSU\n",
       "4     \\n\\nFrau Präsidentin! Liebe Kolleginnen und Ko...  CDU/CSU\n",
       "...                                                 ...      ...\n",
       "8113  \\n\\nVielen Dank. – Frau Präsidentin! Liebe Kol...    Grüne\n",
       "8114  \\n\\nSehr geehrte Frau Präsidentin! Sehr geehrt...    Grüne\n",
       "8115  \\n\\nFrau Präsidentin! Meine Damen und Herren! ...    Grüne\n",
       "8116  \\n\\nUnd auf der EU-Ebene wird zurzeit der Digi...    Grüne\n",
       "8117  \\n\\nWir brauchen eine gemeinsame Öffentlichkei...    Grüne\n",
       "\n",
       "[3923 rows x 2 columns]"
      ]
     },
     "execution_count": 51,
     "metadata": {},
     "output_type": "execute_result"
    }
   ],
   "source": [
    "#removing not found\n",
    "data = data[data.partie != 'not found']\n",
    "data"
   ]
  },
  {
   "cell_type": "code",
   "execution_count": 56,
   "metadata": {},
   "outputs": [],
   "source": [
    "#creating small samples of speeches, for each political party only 50 \n",
    "max_number_speeches = 50\n",
    "\n",
    "cdu_csu = data[data['partie'] == 'CDU/CSU'][:max_number_speeches]\n",
    "spd = data[data['partie'] == 'SPD'][:max_number_speeches]\n",
    "fdp = data[data['partie'] == 'FDP'][:max_number_speeches]\n",
    "afd = data[data['partie'] == 'AfD'][:max_number_speeches]\n",
    "gruene = data[data['partie'] == 'Grüne'][:max_number_speeches]\n",
    "linke = data[data['partie'] == 'DIE LINKE.'][:max_number_speeches]\n",
    "\n",
    "data_train = pd.concat([cdu_csu, spd, fdp, afd, gruene, linke], ignore_index=True)\n",
    "print(data_train)"
   ]
  },
  {
   "cell_type": "markdown",
   "metadata": {},
   "source": [
    "***"
   ]
  },
  {
   "cell_type": "markdown",
   "metadata": {},
   "source": [
    "# Building the model"
   ]
  },
  {
   "cell_type": "code",
   "execution_count": null,
   "metadata": {},
   "outputs": [],
   "source": [
    "model = Sequential()\n",
    "model.add(Embedding(n_most_common_words, emb_dim, input_length=X.shape[1]))\n",
    "model.add(SpatialDropout1D(0.7))\n",
    "model.add(LSTM(64, dropout=0.7, recurrent_dropout=0.7))\n",
    "model.add(Dense(6, activation='softmax')) #softmax activation, last layer should have 6 neurons as there are 6 parties\n",
    "model.compile(optimizer='adam', loss='categorical_crossentropy', metrics=['acc'])\n",
    "print(model.summary())"
   ]
  }
 ],
 "metadata": {
  "interpreter": {
   "hash": "40d3a090f54c6569ab1632332b64b2c03c39dcf918b08424e98f38b5ae0af88f"
  },
  "kernelspec": {
   "display_name": "Python 3.8.8 64-bit ('base': conda)",
   "language": "python",
   "name": "python3"
  },
  "language_info": {
   "codemirror_mode": {
    "name": "ipython",
    "version": 3
   },
   "file_extension": ".py",
   "mimetype": "text/x-python",
   "name": "python",
   "nbconvert_exporter": "python",
   "pygments_lexer": "ipython3",
   "version": "3.8.8"
  },
  "orig_nbformat": 4
 },
 "nbformat": 4,
 "nbformat_minor": 2
}
